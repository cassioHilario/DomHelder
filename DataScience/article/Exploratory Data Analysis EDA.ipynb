{
 "cells": [
  {
   "cell_type": "markdown",
   "metadata": {},
   "source": [
    "# Análise Exploratória de Dados (EDA: _Exploratory Data Analysis_)\n",
    "\n",
    "* Variáveis qualitativas (`categóricas`): Descreve os dados por categorias ou características sem uma ordem natural\n",
    "   \n",
    "    - Dicotômico: Dois valores possíveis: (sim | não), (verdadeiro | falso)\n",
    "   \n",
    "    - Politômica: Permite vários valores, de modo que ao selecionar um dos valores, automaticamente os demais são omitidos: Níveis, Ordem, etc\n",
    "\n",
    "*  Variáveis quantitativas (`não-categóricas`):Descreve os dados numéricos, representando uma quantidade mensurável\n",
    "\n",
    "    - Discreta: Não permitem o uso de valores intermediários ou decimais: Idade, Hora, Minutos, Mês (número), Dia do mês, etc\n",
    "\n",
    "    - Contínua: Existem valores intermediários: Salário, Peso (depende da precisão), Preços, Área, Volume, etc \n",
    "\n"
   ]
  },
  {
   "cell_type": "markdown",
   "metadata": {},
   "source": [
    "    Bibliotecas\n",
    "\n",
    "Utilize `!pip` caso execute o código no Colab, ou `%pip` caso execute o código VSCode ou Jupyter"
   ]
  },
  {
   "cell_type": "code",
   "execution_count": null,
   "metadata": {},
   "outputs": [],
   "source": [
    "%pip install pandas\n",
    "%pip install numpy\n",
    "%pip install seaborn\n",
    "%pip install matplotlib\n",
    "%pip install missingno\n",
    "%pip install sklearn"
   ]
  },
  {
   "cell_type": "code",
   "execution_count": null,
   "metadata": {},
   "outputs": [],
   "source": [
    "# Importar bibliotecas relevantes\n",
    "\n",
    "import numpy as np # linear algebra\n",
    "import pandas as pd # data processing, CSV file I/O (e.g., pd.read_csv)\n",
    "import matplotlib.pyplot as plt # data visualization\n",
    "import seaborn as sns # statistical data visualization\n",
    "\n",
    "from sklearn.preprocessing import MinMaxScaler # Padronização dos dados\n",
    "from sklearn.preprocessing import LabelEncoder # Codificação das variáveis categóricas\n",
    "\n",
    "%matplotlib inline\n",
    "\n",
    "#import warnings\n",
    "#warnings.filterwarnings('ignore')"
   ]
  },
  {
   "cell_type": "markdown",
   "metadata": {},
   "source": [
    "    Sobre a base de dados"
   ]
  },
  {
   "cell_type": "markdown",
   "metadata": {},
   "source": [
    "    Descrição das variáveis:\n",
    "\n",
    "![Titanic Ticket](https://www.encyclopedia-titanica.org/images/ticket_example.jpg?ezimgfmt=ng%3Awebp%2Fngcb35%2Frs%3Adevice%2Frscb35-1)\n",
    "\n",
    "    - pclass    Classe dos passageiros (1 = 1st; 2 = 2nd; 3 = 3rd)\n",
    "    - survival  Sobrevivente (0 = No; 1 = Yes)\n",
    "    - name      Nome\n",
    "    - sex       Sexo\n",
    "    - age       Idade\n",
    "    - sibsp     Número de Irmãos/cônjuges a bordo\n",
    "    - parch     Número de pais/filhos a bordo\n",
    "    - ticket    Número do Ticket\n",
    "    - fare      Tarifa (British pound)\n",
    "    - cabin     Cabine\n",
    "    - embarked  Porto de embarque (C = Cherbourg; Q = Queenstown; S = Southampton)\n",
    "    - boat      Bote salva-vidas\n",
    "    - body      Número de identificação do corpo\n",
    "    - home.dest Destino\n",
    "\n",
    "Fonte: Hind, Philip. Encyclopedia Titanica. Online-only resource. Retrieved 01Feb2012 from http://www.encyclopedia-titanica.org/\n"
   ]
  },
  {
   "cell_type": "markdown",
   "metadata": {},
   "source": [
    "    Abrindo a base de dados (dataset)"
   ]
  },
  {
   "cell_type": "code",
   "execution_count": null,
   "metadata": {},
   "outputs": [],
   "source": [
    "# Caminho do arquivo\n",
    "path = './BasedeDadosPNS-2019/PNS2019-violencia.parquet'\n",
    "violencia = pd.read_parquet(path)\n",
    "df=violencia"
   ]
  },
  {
   "cell_type": "code",
   "execution_count": null,
   "metadata": {},
   "outputs": [],
   "source": [
    "violencia.head()"
   ]
  },
  {
   "cell_type": "code",
   "execution_count": null,
   "metadata": {},
   "outputs": [],
   "source": [
    "# Tipos de cada variável\n",
    "\n",
    "violencia.info()"
   ]
  },
  {
   "cell_type": "code",
   "execution_count": null,
   "metadata": {},
   "outputs": [],
   "source": [
    "# Verificar a descrição dos dados\n",
    "\n",
    "violencia.describe()"
   ]
  },
  {
   "cell_type": "markdown",
   "metadata": {},
   "source": [
    "## EDA ou Análise de Dados Exploratória"
   ]
  },
  {
   "cell_type": "markdown",
   "metadata": {},
   "source": [
    "    Correlação entre as variáveis/características/atributos (Correlation Data)"
   ]
  },
  {
   "cell_type": "code",
   "execution_count": null,
   "metadata": {},
   "outputs": [],
   "source": [
    "violencia.corr()"
   ]
  },
  {
   "cell_type": "code",
   "execution_count": null,
   "metadata": {},
   "outputs": [],
   "source": [
    "sns.heatmap(violencia.corr(), vmin=-1, vmax=+1, annot=True, cmap='YlGnBu')\n",
    "#sns.heatmap(df.corr(), vmin=-1, vmax=+1, annot=True, cmap='YlGnBu', mask=np.triu(np.ones_like(df.corr()))) # Triangular inferior apenas"
   ]
  },
  {
   "cell_type": "code",
   "execution_count": null,
   "metadata": {},
   "outputs": [],
   "source": [
    "# Correlação da variável 'survived' em relação as demais\n",
    "\n",
    "df.corrwith(df[\"UF\"])"
   ]
  },
  {
   "cell_type": "code",
   "execution_count": null,
   "metadata": {},
   "outputs": [],
   "source": [
    "plt.bar(dict(df.corrwith(df[\"UF\"])).keys(), dict(df.corrwith(df[\"UF\"])).values())"
   ]
  },
  {
   "cell_type": "code",
   "execution_count": null,
   "metadata": {},
   "outputs": [],
   "source": [
    "# Correlação entre duas variáveis\n",
    "\n",
    "df[['Cor_Raca','UF']].corr()"
   ]
  },
  {
   "cell_type": "markdown",
   "metadata": {},
   "source": [
    "    Dados Ausentes (Missing Data)"
   ]
  },
  {
   "cell_type": "code",
   "execution_count": null,
   "metadata": {},
   "outputs": [],
   "source": [
    "# Verifica se existe valor ausente em apenas uma variável\n",
    "\n",
    "any(df['Cor_Raca'].isna())"
   ]
  },
  {
   "cell_type": "code",
   "execution_count": null,
   "metadata": {},
   "outputs": [],
   "source": [
    "# Verificando valores ausentes (NaN) nas variáveis, com exceção dos atributos: 'PassengerId' e 'Name'\n",
    "\n",
    "print('Valores ausentes (NaN) em:')\n",
    "for col in [df.columns[i] for i in range(0, len(df.columns))]:\n",
    "    print(col,':', any(df[col].isna()))"
   ]
  },
  {
   "cell_type": "code",
   "execution_count": null,
   "metadata": {},
   "outputs": [],
   "source": [
    "# Quantos dados ausentes tem a variável 'age'?\n",
    "\n",
    "df['F_Agressor'].isnull().sum()"
   ]
  },
  {
   "cell_type": "code",
   "execution_count": null,
   "metadata": {},
   "outputs": [],
   "source": [
    "# Quantos dados ausentes tem a variável 'embark_town'?\n",
    "\n",
    "df['V_N_Ocorrencia'].isnull().sum()"
   ]
  },
  {
   "cell_type": "markdown",
   "metadata": {},
   "source": [
    "    Dados Desbanlanceados (Imbalanced Dataset)"
   ]
  },
  {
   "cell_type": "code",
   "execution_count": null,
   "metadata": {},
   "outputs": [],
   "source": [
    "df['V_Ameaca'].value_counts()"
   ]
  },
  {
   "cell_type": "code",
   "execution_count": null,
   "metadata": {},
   "outputs": [],
   "source": [
    "df1 = df\n",
    "# Substiui os codigos dos estados por suas respectivas siglas\n",
    "estado = {11:'RO', 12:'AC', 13:'AM', 14:'RR', 15:'PA', 16:'AP', 17:'TO', 21:'MA', 22:'PI', 23:'CE', 24:'RN', 25:'PB', 26:'PE', 27:'AL', 28:'SE', 29:'BA', 31:'MG', 32:'ES', 33:'RJ', 35:'SP', 41:'PR', 42:'SC', 43:'RS', 50:'MS', 51:'MT', 52:'GO', 53:'DF'}\n",
    "for key, value in estado.items():\n",
    "    df1['UF'].replace(key, value, inplace=True)\n",
    "sns.set()\n",
    "sns.set(rc = {'figure.figsize':(30,5)})\n",
    "sns.countplot(x=\"UF\",data=df1)"
   ]
  },
  {
   "cell_type": "markdown",
   "metadata": {},
   "source": [
    "    Medidas de tendência central\n",
    "\n",
    "* Lembrando:\n",
    "    - Média: Soma de todos os valores dividido pela quantidade de observações\n",
    "    - Mediana: Valor central em sequência ordenada\n",
    "    - Moda: Valor mais frequente em uma sequência"
   ]
  },
  {
   "cell_type": "code",
   "execution_count": null,
   "metadata": {},
   "outputs": [],
   "source": [
    "# Média de agressão verbal por estado\n",
    "df1.groupby('UF')['V_Ameaca'].mean()"
   ]
  },
  {
   "cell_type": "code",
   "execution_count": null,
   "metadata": {},
   "outputs": [],
   "source": [
    "# Valor do ticket em 95% dos tickets vendidos\n",
    "\n",
    "print('Max:', df['fare'].max(), '-> IQR:', df['fare'].quantile(0.95))"
   ]
  },
  {
   "cell_type": "code",
   "execution_count": null,
   "metadata": {},
   "outputs": [],
   "source": [
    "# Idade da maior parte dos passageiros\n",
    " \n",
    "df['age'].mode()"
   ]
  },
  {
   "cell_type": "code",
   "execution_count": null,
   "metadata": {},
   "outputs": [],
   "source": [
    "# A mediana de idade em cada classe\n",
    "\n",
    "df.groupby('pclass')['age'].median()"
   ]
  },
  {
   "cell_type": "code",
   "execution_count": null,
   "metadata": {},
   "outputs": [],
   "source": [
    "# Porcentagem de passageiros em cada classe\n",
    " \n",
    "(df['pclass'].value_counts()/len(df))*100"
   ]
  },
  {
   "cell_type": "markdown",
   "metadata": {},
   "source": [
    "    Medidas de Dispersão"
   ]
  },
  {
   "cell_type": "code",
   "execution_count": null,
   "metadata": {},
   "outputs": [],
   "source": [
    "# Variabilidade de cada variável\n",
    "\n",
    "df.std()"
   ]
  },
  {
   "cell_type": "code",
   "execution_count": null,
   "metadata": {},
   "outputs": [],
   "source": [
    "# Porcentagem da variação de idade por classe\n",
    "\n",
    "(df.groupby('pclass')['age'].std() / df.groupby('pclass')['age'].mean()) * 100"
   ]
  },
  {
   "cell_type": "code",
   "execution_count": null,
   "metadata": {},
   "outputs": [],
   "source": [
    "# As classes que tiveram mais variabilidade de sobreviventes\n",
    "\n",
    "df.groupby('pclass')['survived'].std().sort_values(ascending= False)"
   ]
  },
  {
   "cell_type": "markdown",
   "metadata": {},
   "source": [
    "    Distribuição dos Dados"
   ]
  },
  {
   "cell_type": "code",
   "execution_count": null,
   "metadata": {},
   "outputs": [],
   "source": [
    "def dist_Attribute(data, columns):\n",
    "    sns.countplot(data=data, x=columns)\n",
    "    plt.xticks(rotation=90)\n",
    "    plt.show()\n",
    "    print('Frequente:',data[columns].mode()[0])"
   ]
  },
  {
   "cell_type": "code",
   "execution_count": null,
   "metadata": {},
   "outputs": [],
   "source": [
    "dist_Attribute(df, 'sex')"
   ]
  },
  {
   "cell_type": "code",
   "execution_count": null,
   "metadata": {},
   "outputs": [],
   "source": [
    "dist_Attribute(df, 'pclass')"
   ]
  },
  {
   "cell_type": "code",
   "execution_count": null,
   "metadata": {},
   "outputs": [],
   "source": [
    "df"
   ]
  },
  {
   "cell_type": "code",
   "execution_count": null,
   "metadata": {},
   "outputs": [],
   "source": [
    "# Verificar as distribuições normais entre as variáveis contínuas\n",
    "\n",
    "plt.figure(figsize=(20,15))\n",
    "j=1\n",
    "for i in df.columns:\n",
    "    if df[i].dtypes == 'float64' or df[i].dtypes == 'int64':\n",
    "        sns.displot(df[i])\n",
    "        #plt.subplot(2,3,j)\n",
    "        j+=1\n",
    "        print(df[i].name, ':', df[i].skew())\n",
    "#plt.tight_layout()\n",
    "plt.show()"
   ]
  },
  {
   "cell_type": "code",
   "execution_count": null,
   "metadata": {},
   "outputs": [],
   "source": [
    "# Número de passageiros embarcados em cada porto\n",
    "\n",
    "print(df['embarked'].value_counts())\n",
    "df['embarked'].value_counts().plot(kind='bar',color='blue')"
   ]
  },
  {
   "cell_type": "code",
   "execution_count": null,
   "metadata": {},
   "outputs": [],
   "source": [
    "sns.set(rc = {'figure.figsize':(16,6)})\n",
    "plt.plot(figure_size = (1,2))\n",
    "\n",
    "# Boxplots\n",
    "plt.subplot(1,2,1)\n",
    "bp_ax = sns.boxplot(x=\"survived\", y=\"age\", data=df)\n",
    "bp_ax.set_title('Box plot', fontsize = 20)\n",
    "\n",
    "# Função Densidade de Probabilidade\n",
    "plt.subplot(1,2,2)\n",
    "dp_ax = sns.kdeplot(x='age', hue='survived', data=df)\n",
    "dp_ax.set_title('Density plot', fontsize = 20)\n",
    "\n",
    "# Boxplots: Distribuição do atributo (age) para cada classe de saída (survived), além de fornecer informações sobre os outliers\n",
    "# Gráficos de densidade : Distribuição e a forma da distribuição (semelhante a normal ou qualquer outra distribuição) do atributo\n",
    "# Gráficos de contagem empilhados: Informa sobre a contagem de cada categoria do atributo, e com informações sobre a porcentagem de cada categoria"
   ]
  },
  {
   "cell_type": "code",
   "execution_count": null,
   "metadata": {},
   "outputs": [],
   "source": [
    "def plot_stacked_plot_percentages(class_list, df_p, add_x_val):\n",
    "    \n",
    "    '''This function adds the percentage in each stacked plot\n",
    "    class_list : contains three params, count of each rect/class, total for that rect/class, ax object of that rect/class\n",
    "    df_p : df.axes.patches object for each rectange\n",
    "    add_x_val : x axis value to center the text\n",
    "    '''\n",
    "    \n",
    "    for class_val in class_list:\n",
    "        \n",
    "        percentage = (class_val[0]/class_val[1])*100\n",
    "        height = class_val[2].get_height() \n",
    "        df_p.axes.text(class_val[2].get_x()+add_x_val, height,\"{:1.1f}%\".format(percentage))"
   ]
  },
  {
   "cell_type": "code",
   "execution_count": null,
   "metadata": {},
   "outputs": [],
   "source": [
    "def calculate_stacked_plot_percentages(df_plot, df_p):\n",
    "    df_plot_sum = df_plot.sum(axis=1)\n",
    "    class_sum = np.array([df_plot_sum.iloc[int(i/2)] if i%2==0 else df_plot_sum.iloc[int((i-1)/2)] for i in range(2*len(df_plot_sum)) ]).reshape((len(df_plot_sum),2)).T.flatten()\n",
    "    class_list = zip(np.roll(df_plot.to_numpy().T.flatten(), len(df_plot)), class_sum, list(df_p.axes.patches))\n",
    "\n",
    "    return class_list"
   ]
  },
  {
   "cell_type": "code",
   "execution_count": null,
   "metadata": {},
   "outputs": [],
   "source": [
    "sns.set(rc = {'figure.figsize':(15,8)})\n",
    "\n",
    "# Encontrando as faixas\n",
    "df['age_bin'] = pd.cut(df['age'], 3, precision=0)\n",
    "\n",
    "# Cálculo a contagem de variável categórica 'survived' para diferentes faixas etárias\n",
    "df_plot = df.groupby([ 'survived', 'age_bin']).size().reset_index().pivot(columns='survived', index='age_bin', values=0)\n",
    "print(df_plot)\n",
    "\n",
    "# Gráfico de barra empilhada\n",
    "df_p = df_plot.plot(kind='bar', stacked=True)\n",
    "\n",
    "# Defina os rótulos\n",
    "df_p.set_xlabel(\"Grupos de idade\", fontsize = 20)\n",
    "df_p.set_ylabel(\"Qtde\", fontsize = 20)\n",
    "\n",
    "class_list = calculate_stacked_plot_percentages(df_plot, df_p)\n",
    "\n",
    "plot_stacked_plot_percentages(class_list, df_p, 0.12)"
   ]
  },
  {
   "cell_type": "markdown",
   "metadata": {},
   "source": [
    "    Padronização dos dados"
   ]
  },
  {
   "cell_type": "code",
   "execution_count": null,
   "metadata": {},
   "outputs": [],
   "source": [
    "# Boxplot de todos os atributos contínuos antes da padronização\n",
    "\n",
    "df.boxplot()"
   ]
  },
  {
   "cell_type": "code",
   "execution_count": null,
   "metadata": {},
   "outputs": [],
   "source": [
    "categorical_features = ['sex', 'pclass', 'embarked' ]\n",
    "numerical_features = ['age', 'sibsp', 'parch', 'fare', 'family','name_length']\n",
    "\n",
    "for col in categorical_features:\n",
    "    if col in df.columns:\n",
    "        try:\n",
    "            le = LabelEncoder()\n",
    "            df[col]= le.fit_transform(X[col])\n",
    "        except:\n",
    "            pass\n",
    "\n",
    "for col in numerical_features:\n",
    "    le = MinMaxScaler()\n",
    "    if col in df.columns:\n",
    "        df[col]= le.fit_transform(np.array(df[col]).reshape(-1,1))\n",
    "\n",
    "df"
   ]
  },
  {
   "cell_type": "markdown",
   "metadata": {},
   "source": [
    "    Detecção de Outliers"
   ]
  },
  {
   "cell_type": "code",
   "execution_count": null,
   "metadata": {},
   "outputs": [],
   "source": [
    "# Boxplot de todos os atributos contínuos\n",
    "\n",
    "df.boxplot()"
   ]
  },
  {
   "cell_type": "code",
   "execution_count": null,
   "metadata": {},
   "outputs": [],
   "source": [
    "# Boxplot de todos os atributos contínuos usando a biblioteca seaborn\n",
    "\n",
    "sns.boxplot(data=df)"
   ]
  },
  {
   "cell_type": "code",
   "execution_count": null,
   "metadata": {},
   "outputs": [],
   "source": [
    "df1 = df[['age','fare']]\n",
    "sns.boxplot(data=df1)"
   ]
  },
  {
   "cell_type": "code",
   "execution_count": null,
   "metadata": {},
   "outputs": [],
   "source": [
    "# Eliminar outliers dos dados depois de analisar com boxplot\n",
    "\n",
    "def drop_outliers(data , col):\n",
    "    Q1 = data['age'].quantile(0.25)\n",
    "    Q3 = data['age'].quantile(0.75)\n",
    "    IQR = Q3 - Q1 # IQR significa Interquartile Range \n",
    "\n",
    "    filter = (data['age'] >= Q1 - 1.5 * IQR) & (data['age'] <= Q3 + 1.5 *IQR) # Filtro  dentro de Q1 - 1.5*IQR até Q3 + 1.5*IQR\n",
    "    data = data.loc[filter]\n",
    "    return data\n",
    "\n",
    "drop_outliers(df, 'fare')"
   ]
  },
  {
   "cell_type": "markdown",
   "metadata": {},
   "source": [
    "    Eliminar colunas no dataset"
   ]
  },
  {
   "cell_type": "code",
   "execution_count": null,
   "metadata": {},
   "outputs": [],
   "source": [
    "drop_list = ['sibsp', 'parch', 'age_bin']\n",
    "\n",
    "X = df.drop(columns=drop_list)\n",
    "\n",
    "print(X.columns)"
   ]
  },
  {
   "cell_type": "markdown",
   "metadata": {},
   "source": [
    "    Separando as classes de um atributo em colunas distintas"
   ]
  },
  {
   "cell_type": "code",
   "execution_count": null,
   "metadata": {},
   "outputs": [],
   "source": [
    "cols_dummies = ['embarked','survived']\n",
    "X = pd.get_dummies(X, columns=cols_dummies)\n",
    "X"
   ]
  },
  {
   "cell_type": "markdown",
   "metadata": {},
   "source": [
    "---"
   ]
  },
  {
   "cell_type": "code",
   "execution_count": null,
   "metadata": {},
   "outputs": [],
   "source": [
    "# Importar bibliotecas relevantes\n",
    "\n",
    "import numpy as np # linear algebra\n",
    "import pandas as pd # data processing, CSV file I/O (e.g., pd.read_csv)\n",
    "import matplotlib.pyplot as plt # data visualization\n",
    "import seaborn as sns # statistical data visualization"
   ]
  },
  {
   "cell_type": "code",
   "execution_count": null,
   "metadata": {},
   "outputs": [],
   "source": [
    "print(\"Lista de datasets da biblioteca 'seaborn':\", sns.get_dataset_names())"
   ]
  },
  {
   "cell_type": "code",
   "execution_count": null,
   "metadata": {},
   "outputs": [],
   "source": [
    "df1 = sns.load_dataset('titanic')\n",
    "df1.head(3)"
   ]
  },
  {
   "cell_type": "code",
   "execution_count": null,
   "metadata": {},
   "outputs": [],
   "source": [
    "df2 = sns.load_dataset('iris')\n",
    "df2.head(3)"
   ]
  },
  {
   "cell_type": "markdown",
   "metadata": {},
   "source": [
    "---"
   ]
  },
  {
   "cell_type": "markdown",
   "metadata": {},
   "source": [
    "    Copiar atributos de um dataframe para outro"
   ]
  },
  {
   "cell_type": "code",
   "execution_count": null,
   "metadata": {},
   "outputs": [],
   "source": [
    "# Criando um novo dataframe a partir dos dados de outros dataframes\n",
    "\n",
    "df3 = pd.DataFrame(df1, columns=['pclass', 'age', 'fare', 'alive'])\n",
    "df3.head(3) "
   ]
  },
  {
   "cell_type": "code",
   "execution_count": null,
   "metadata": {},
   "outputs": [],
   "source": [
    "# Criando um dataframe a partir de um dicionário do python\n",
    "\n",
    "dic = {\n",
    "    'Nome': ['Tom', 'nick', 'krish', 'jack'],\n",
    "    'Idade': [20, 21, 19, 18]\n",
    "}\n",
    "df3 = pd.DataFrame(dic)\n",
    "df3.head(3) "
   ]
  },
  {
   "cell_type": "code",
   "execution_count": null,
   "metadata": {},
   "outputs": [],
   "source": [
    "# Concatenando dois dataframes\n",
    "\n",
    "df3 = pd.concat([df1, df2])\n",
    "df3.head(3)"
   ]
  },
  {
   "cell_type": "code",
   "execution_count": null,
   "metadata": {},
   "outputs": [],
   "source": [
    "print(\"DF1:\", df1.shape)\n",
    "print(\"DF2:\", df2.shape)\n",
    "print(\"DF3:\", df3.shape)"
   ]
  }
 ],
 "metadata": {
  "kernelspec": {
   "display_name": "Python 3.9.13 64-bit (microsoft store)",
   "language": "python",
   "name": "python3"
  },
  "language_info": {
   "codemirror_mode": {
    "name": "ipython",
    "version": 3
   },
   "file_extension": ".py",
   "mimetype": "text/x-python",
   "name": "python",
   "nbconvert_exporter": "python",
   "pygments_lexer": "ipython3",
   "version": "3.9.13"
  },
  "vscode": {
   "interpreter": {
    "hash": "09e83f04e46517ea1a03852b22098722c60f5ebfc3f611b0edf7286ad5c15192"
   }
  }
 },
 "nbformat": 4,
 "nbformat_minor": 2
}
