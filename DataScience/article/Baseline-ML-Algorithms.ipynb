{
 "cells": [
  {
   "cell_type": "markdown",
   "metadata": {},
   "source": [
    "# Algoritmos de Baseline\n",
    "\n",
    "A construção de um modelo de machine learning pode ser dividido em sete etapas:\n",
    "1. Coleta de dados\n",
    "2. Pré-processamento dos dados \n",
    "3. Escolhe/decide por um modelo\n",
    "4. Treina o modelo\n",
    "5. Avalia o modelo\n",
    "6. Ajuste dos parâmetros do modelo\n",
    "7. Realiza previsões"
   ]
  },
  {
   "cell_type": "markdown",
   "metadata": {},
   "source": [
    "#### Importando as bibliotecas"
   ]
  },
  {
   "cell_type": "code",
   "execution_count": 1,
   "metadata": {},
   "outputs": [
    {
     "name": "stdout",
     "output_type": "stream",
     "text": [
      "Requirement already satisfied: pandas in f:\\programas\\anaconda\\lib\\site-packages (1.4.4)\n",
      "Requirement already satisfied: numpy>=1.18.5 in f:\\programas\\anaconda\\lib\\site-packages (from pandas) (1.21.5)\n",
      "Requirement already satisfied: python-dateutil>=2.8.1 in f:\\programas\\anaconda\\lib\\site-packages (from pandas) (2.8.2)\n",
      "Requirement already satisfied: pytz>=2020.1 in f:\\programas\\anaconda\\lib\\site-packages (from pandas) (2022.1)\n",
      "Requirement already satisfied: six>=1.5 in f:\\programas\\anaconda\\lib\\site-packages (from python-dateutil>=2.8.1->pandas) (1.16.0)\n",
      "Note: you may need to restart the kernel to use updated packages.\n",
      "Requirement already satisfied: numpy in f:\\programas\\anaconda\\lib\\site-packages (1.21.5)\n",
      "Note: you may need to restart the kernel to use updated packages.\n",
      "Requirement already satisfied: seaborn in f:\\programas\\anaconda\\lib\\site-packages (0.11.2)\n",
      "Requirement already satisfied: matplotlib>=2.2 in f:\\programas\\anaconda\\lib\\site-packages (from seaborn) (3.5.2)\n",
      "Requirement already satisfied: scipy>=1.0 in f:\\programas\\anaconda\\lib\\site-packages (from seaborn) (1.9.1)\n",
      "Requirement already satisfied: pandas>=0.23 in f:\\programas\\anaconda\\lib\\site-packages (from seaborn) (1.4.4)\n",
      "Requirement already satisfied: numpy>=1.15 in f:\\programas\\anaconda\\lib\\site-packages (from seaborn) (1.21.5)\n",
      "Requirement already satisfied: fonttools>=4.22.0 in f:\\programas\\anaconda\\lib\\site-packages (from matplotlib>=2.2->seaborn) (4.25.0)\n",
      "Requirement already satisfied: cycler>=0.10 in f:\\programas\\anaconda\\lib\\site-packages (from matplotlib>=2.2->seaborn) (0.11.0)\n",
      "Requirement already satisfied: packaging>=20.0 in f:\\programas\\anaconda\\lib\\site-packages (from matplotlib>=2.2->seaborn) (21.3)\n",
      "Requirement already satisfied: python-dateutil>=2.7 in f:\\programas\\anaconda\\lib\\site-packages (from matplotlib>=2.2->seaborn) (2.8.2)\n",
      "Requirement already satisfied: pyparsing>=2.2.1 in f:\\programas\\anaconda\\lib\\site-packages (from matplotlib>=2.2->seaborn) (3.0.9)\n",
      "Requirement already satisfied: pillow>=6.2.0 in f:\\programas\\anaconda\\lib\\site-packages (from matplotlib>=2.2->seaborn) (9.2.0)\n",
      "Requirement already satisfied: kiwisolver>=1.0.1 in f:\\programas\\anaconda\\lib\\site-packages (from matplotlib>=2.2->seaborn) (1.4.2)\n",
      "Requirement already satisfied: pytz>=2020.1 in f:\\programas\\anaconda\\lib\\site-packages (from pandas>=0.23->seaborn) (2022.1)\n",
      "Requirement already satisfied: six>=1.5 in f:\\programas\\anaconda\\lib\\site-packages (from python-dateutil>=2.7->matplotlib>=2.2->seaborn) (1.16.0)\n",
      "Note: you may need to restart the kernel to use updated packages.\n",
      "Requirement already satisfied: matplotlib in f:\\programas\\anaconda\\lib\\site-packages (3.5.2)Note: you may need to restart the kernel to use updated packages.\n",
      "\n",
      "Requirement already satisfied: cycler>=0.10 in f:\\programas\\anaconda\\lib\\site-packages (from matplotlib) (0.11.0)\n",
      "Requirement already satisfied: python-dateutil>=2.7 in f:\\programas\\anaconda\\lib\\site-packages (from matplotlib) (2.8.2)\n",
      "Requirement already satisfied: kiwisolver>=1.0.1 in f:\\programas\\anaconda\\lib\\site-packages (from matplotlib) (1.4.2)\n",
      "Requirement already satisfied: packaging>=20.0 in f:\\programas\\anaconda\\lib\\site-packages (from matplotlib) (21.3)\n",
      "Requirement already satisfied: pyparsing>=2.2.1 in f:\\programas\\anaconda\\lib\\site-packages (from matplotlib) (3.0.9)\n",
      "Requirement already satisfied: numpy>=1.17 in f:\\programas\\anaconda\\lib\\site-packages (from matplotlib) (1.21.5)\n",
      "Requirement already satisfied: fonttools>=4.22.0 in f:\\programas\\anaconda\\lib\\site-packages (from matplotlib) (4.25.0)\n",
      "Requirement already satisfied: pillow>=6.2.0 in f:\\programas\\anaconda\\lib\\site-packages (from matplotlib) (9.2.0)\n",
      "Requirement already satisfied: six>=1.5 in f:\\programas\\anaconda\\lib\\site-packages (from python-dateutil>=2.7->matplotlib) (1.16.0)\n",
      "Collecting missingno\n",
      "  Downloading missingno-0.5.1-py3-none-any.whl (8.7 kB)\n",
      "Requirement already satisfied: scipy in f:\\programas\\anaconda\\lib\\site-packages (from missingno) (1.9.1)\n",
      "Requirement already satisfied: numpy in f:\\programas\\anaconda\\lib\\site-packages (from missingno) (1.21.5)\n",
      "Requirement already satisfied: seaborn in f:\\programas\\anaconda\\lib\\site-packages (from missingno) (0.11.2)\n",
      "Requirement already satisfied: matplotlib in f:\\programas\\anaconda\\lib\\site-packages (from missingno) (3.5.2)\n",
      "Requirement already satisfied: packaging>=20.0 in f:\\programas\\anaconda\\lib\\site-packages (from matplotlib->missingno) (21.3)\n",
      "Requirement already satisfied: python-dateutil>=2.7 in f:\\programas\\anaconda\\lib\\site-packages (from matplotlib->missingno) (2.8.2)\n",
      "Requirement already satisfied: kiwisolver>=1.0.1 in f:\\programas\\anaconda\\lib\\site-packages (from matplotlib->missingno) (1.4.2)\n",
      "Requirement already satisfied: fonttools>=4.22.0 in f:\\programas\\anaconda\\lib\\site-packages (from matplotlib->missingno) (4.25.0)\n",
      "Requirement already satisfied: cycler>=0.10 in f:\\programas\\anaconda\\lib\\site-packages (from matplotlib->missingno) (0.11.0)\n",
      "Requirement already satisfied: pyparsing>=2.2.1 in f:\\programas\\anaconda\\lib\\site-packages (from matplotlib->missingno) (3.0.9)\n",
      "Requirement already satisfied: pillow>=6.2.0 in f:\\programas\\anaconda\\lib\\site-packages (from matplotlib->missingno) (9.2.0)\n",
      "Requirement already satisfied: pandas>=0.23 in f:\\programas\\anaconda\\lib\\site-packages (from seaborn->missingno) (1.4.4)\n",
      "Requirement already satisfied: pytz>=2020.1 in f:\\programas\\anaconda\\lib\\site-packages (from pandas>=0.23->seaborn->missingno) (2022.1)\n",
      "Requirement already satisfied: six>=1.5 in f:\\programas\\anaconda\\lib\\site-packages (from python-dateutil>=2.7->matplotlib->missingno) (1.16.0)\n",
      "Installing collected packages: missingno\n",
      "Successfully installed missingno-0.5.1\n",
      "Note: you may need to restart the kernel to use updated packages.\n",
      "Collecting sklearnNote: you may need to restart the kernel to use updated packages.\n",
      "\n",
      "  Downloading sklearn-0.0.post1.tar.gz (3.6 kB)\n",
      "  Preparing metadata (setup.py): started\n",
      "  Preparing metadata (setup.py): finished with status 'done'\n",
      "Building wheels for collected packages: sklearn\n",
      "  Building wheel for sklearn (setup.py): started\n",
      "  Building wheel for sklearn (setup.py): finished with status 'done'\n",
      "  Created wheel for sklearn: filename=sklearn-0.0.post1-py3-none-any.whl size=2936 sha256=16009c06ea7ecf31b4e700e98fcfee36e35ddf462abdceff25a9e46cc0a3491c\n",
      "  Stored in directory: c:\\users\\admin\\appdata\\local\\pip\\cache\\wheels\\f8\\e0\\3d\\9d0c2020c44a519b9f02ab4fa6d2a4a996c98d79ab2f569fa1\n",
      "Successfully built sklearn\n",
      "Installing collected packages: sklearn\n",
      "Successfully installed sklearn-0.0.post1\n"
     ]
    }
   ],
   "source": [
    "%pip install pandas\n",
    "%pip install numpy\n",
    "%pip install seaborn\n",
    "%pip install matplotlib\n",
    "%pip install missingno\n",
    "%pip install sklearn"
   ]
  },
  {
   "cell_type": "code",
   "execution_count": 2,
   "metadata": {
    "pycharm": {
     "is_executing": false
    }
   },
   "outputs": [],
   "source": [
    "import pandas as pd\n",
    "import numpy as np\n",
    "import matplotlib.pyplot as plt\n",
    "import seaborn as sns # Visualização estatística dos dados\n",
    "#from pandas.plotting import scatter_matrix"
   ]
  },
  {
   "cell_type": "code",
   "execution_count": 3,
   "metadata": {},
   "outputs": [],
   "source": [
    "from sklearn import model_selection\n",
    "\n",
    "# Regressores\n",
    "\n",
    "from sklearn.linear_model import LogisticRegression\n",
    "from sklearn.tree import DecisionTreeClassifier\n",
    "from sklearn.neighbors import KNeighborsClassifier\n",
    "from sklearn.discriminant_analysis import LinearDiscriminantAnalysis\n",
    "from sklearn.naive_bayes import GaussianNB\n",
    "from sklearn.ensemble import RandomForestClassifier, AdaBoostClassifier\n",
    "from sklearn.svm import SVC, LinearSVC\n",
    "\n",
    "# Classificadores\n",
    "\n",
    "from sklearn.linear_model import LogisticRegression\n",
    "from sklearn.linear_model import LinearRegression\n",
    "from sklearn.tree import DecisionTreeRegressor\n",
    "from sklearn.neighbors import KNeighborsRegressor\n",
    "from sklearn.naive_bayes import GaussianNB\n",
    "from sklearn.ensemble import RandomForestRegressor, AdaBoostRegressor\n",
    "from sklearn.svm import LinearSVR\n",
    "\n",
    "from scipy import stats\n",
    "\n",
    "# Métricas de avaliação\n",
    "\n",
    "import sklearn.metrics as metrics\n",
    "from sklearn.metrics import confusion_matrix\n",
    "from sklearn.metrics import mean_squared_error\n",
    "\n",
    "#from statsmodels.api import OLS\n",
    "\n",
    "%matplotlib inline\n",
    "\n",
    "import warnings\n",
    "warnings.filterwarnings('ignore')"
   ]
  },
  {
   "cell_type": "markdown",
   "metadata": {},
   "source": [
    "---\n",
    "\n",
    "## Dataset"
   ]
  },
  {
   "cell_type": "markdown",
   "metadata": {},
   "source": [
    "#### Importando os dados"
   ]
  },
  {
   "cell_type": "code",
   "execution_count": 4,
   "metadata": {
    "pycharm": {
     "is_executing": false
    }
   },
   "outputs": [
    {
     "data": {
      "text/html": [
       "<div>\n",
       "<style scoped>\n",
       "    .dataframe tbody tr th:only-of-type {\n",
       "        vertical-align: middle;\n",
       "    }\n",
       "\n",
       "    .dataframe tbody tr th {\n",
       "        vertical-align: top;\n",
       "    }\n",
       "\n",
       "    .dataframe thead th {\n",
       "        text-align: right;\n",
       "    }\n",
       "</style>\n",
       "<table border=\"1\" class=\"dataframe\">\n",
       "  <thead>\n",
       "    <tr style=\"text-align: right;\">\n",
       "      <th></th>\n",
       "      <th>Unnamed: 0</th>\n",
       "      <th>UF</th>\n",
       "      <th>Qtd_Moradores</th>\n",
       "      <th>Sexo</th>\n",
       "      <th>Idade</th>\n",
       "      <th>Cor_Raca</th>\n",
       "      <th>V_Ofensa</th>\n",
       "      <th>V_Grito</th>\n",
       "      <th>V_Rede_Social</th>\n",
       "      <th>V_Ameaca</th>\n",
       "      <th>V_Destruiu</th>\n",
       "      <th>F_Tapa</th>\n",
       "      <th>F_Empurrou</th>\n",
       "      <th>F_Soco</th>\n",
       "      <th>F_Enforca</th>\n",
       "      <th>F_Ameaca</th>\n",
       "      <th>S_T_Toque</th>\n",
       "      <th>S_T_Ameaca</th>\n",
       "    </tr>\n",
       "  </thead>\n",
       "  <tbody>\n",
       "    <tr>\n",
       "      <th>0</th>\n",
       "      <td>29</td>\n",
       "      <td>11</td>\n",
       "      <td>2</td>\n",
       "      <td>1</td>\n",
       "      <td>33</td>\n",
       "      <td>4</td>\n",
       "      <td>1</td>\n",
       "      <td>1</td>\n",
       "      <td>0</td>\n",
       "      <td>1</td>\n",
       "      <td>0</td>\n",
       "      <td>0</td>\n",
       "      <td>0</td>\n",
       "      <td>0</td>\n",
       "      <td>0</td>\n",
       "      <td>0</td>\n",
       "      <td>1</td>\n",
       "      <td>0</td>\n",
       "    </tr>\n",
       "    <tr>\n",
       "      <th>1</th>\n",
       "      <td>43</td>\n",
       "      <td>11</td>\n",
       "      <td>4</td>\n",
       "      <td>1</td>\n",
       "      <td>35</td>\n",
       "      <td>4</td>\n",
       "      <td>0</td>\n",
       "      <td>0</td>\n",
       "      <td>1</td>\n",
       "      <td>0</td>\n",
       "      <td>0</td>\n",
       "      <td>0</td>\n",
       "      <td>0</td>\n",
       "      <td>0</td>\n",
       "      <td>0</td>\n",
       "      <td>0</td>\n",
       "      <td>0</td>\n",
       "      <td>0</td>\n",
       "    </tr>\n",
       "    <tr>\n",
       "      <th>2</th>\n",
       "      <td>49</td>\n",
       "      <td>11</td>\n",
       "      <td>3</td>\n",
       "      <td>1</td>\n",
       "      <td>42</td>\n",
       "      <td>1</td>\n",
       "      <td>0</td>\n",
       "      <td>1</td>\n",
       "      <td>0</td>\n",
       "      <td>0</td>\n",
       "      <td>0</td>\n",
       "      <td>1</td>\n",
       "      <td>0</td>\n",
       "      <td>1</td>\n",
       "      <td>0</td>\n",
       "      <td>0</td>\n",
       "      <td>0</td>\n",
       "      <td>0</td>\n",
       "    </tr>\n",
       "  </tbody>\n",
       "</table>\n",
       "</div>"
      ],
      "text/plain": [
       "   Unnamed: 0  UF  Qtd_Moradores  Sexo  Idade  Cor_Raca  V_Ofensa  V_Grito  \\\n",
       "0          29  11              2     1     33         4         1        1   \n",
       "1          43  11              4     1     35         4         0        0   \n",
       "2          49  11              3     1     42         1         0        1   \n",
       "\n",
       "   V_Rede_Social  V_Ameaca  V_Destruiu  F_Tapa  F_Empurrou  F_Soco  F_Enforca  \\\n",
       "0              0         1           0       0           0       0          0   \n",
       "1              1         0           0       0           0       0          0   \n",
       "2              0         0           0       1           0       1          0   \n",
       "\n",
       "   F_Ameaca  S_T_Toque  S_T_Ameaca  \n",
       "0         0          1           0  \n",
       "1         0          0           0  \n",
       "2         0          0           0  "
      ]
     },
     "execution_count": 4,
     "metadata": {},
     "output_type": "execute_result"
    }
   ],
   "source": [
    "df = pd.read_csv(\"./BasedeDadosPNS-2019/PNS2019-violencia.csv\", delimiter=\",\", encoding='unicode_escape')\n",
    "df.head(3)"
   ]
  },
  {
   "cell_type": "markdown",
   "metadata": {},
   "source": [
    "#### Informações do dataset"
   ]
  },
  {
   "cell_type": "code",
   "execution_count": 5,
   "metadata": {},
   "outputs": [
    {
     "name": "stdout",
     "output_type": "stream",
     "text": [
      "Index(['Unnamed: 0', 'UF', 'Qtd_Moradores', 'Sexo', 'Idade', 'Cor_Raca',\n",
      "       'V_Ofensa', 'V_Grito', 'V_Rede_Social', 'V_Ameaca', 'V_Destruiu',\n",
      "       'F_Tapa', 'F_Empurrou', 'F_Soco', 'F_Enforca', 'F_Ameaca', 'S_T_Toque',\n",
      "       'S_T_Ameaca'],\n",
      "      dtype='object')\n",
      "<class 'pandas.core.frame.DataFrame'>\n",
      "RangeIndex: 13262 entries, 0 to 13261\n",
      "Data columns (total 18 columns):\n",
      " #   Column         Non-Null Count  Dtype\n",
      "---  ------         --------------  -----\n",
      " 0   Unnamed: 0     13262 non-null  int64\n",
      " 1   UF             13262 non-null  int64\n",
      " 2   Qtd_Moradores  13262 non-null  int64\n",
      " 3   Sexo           13262 non-null  int64\n",
      " 4   Idade          13262 non-null  int64\n",
      " 5   Cor_Raca       13262 non-null  int64\n",
      " 6   V_Ofensa       13262 non-null  int64\n",
      " 7   V_Grito        13262 non-null  int64\n",
      " 8   V_Rede_Social  13262 non-null  int64\n",
      " 9   V_Ameaca       13262 non-null  int64\n",
      " 10  V_Destruiu     13262 non-null  int64\n",
      " 11  F_Tapa         13262 non-null  int64\n",
      " 12  F_Empurrou     13262 non-null  int64\n",
      " 13  F_Soco         13262 non-null  int64\n",
      " 14  F_Enforca      13262 non-null  int64\n",
      " 15  F_Ameaca       13262 non-null  int64\n",
      " 16  S_T_Toque      13262 non-null  int64\n",
      " 17  S_T_Ameaca     13262 non-null  int64\n",
      "dtypes: int64(18)\n",
      "memory usage: 1.8 MB\n"
     ]
    }
   ],
   "source": [
    "print(df.columns)\n",
    "df.info()"
   ]
  },
  {
   "cell_type": "markdown",
   "metadata": {},
   "source": [
    "##### Reduzindo a dimensionalidade (características) do dataset"
   ]
  },
  {
   "cell_type": "code",
   "execution_count": 10,
   "metadata": {},
   "outputs": [],
   "source": [
    "# Reduz o número de linhas para testar os algoritmos de ML\n",
    "\n",
    "# print(df.shape)\n",
    "# df = df.sample(n=1000)\n",
    "# print(df.shape)"
   ]
  },
  {
   "cell_type": "markdown",
   "metadata": {},
   "source": [
    "##### Aumentando a dimensionalidade replicando colunas categóricas para numéricas"
   ]
  },
  {
   "cell_type": "code",
   "execution_count": 11,
   "metadata": {},
   "outputs": [
    {
     "data": {
      "text/html": [
       "<div>\n",
       "<style scoped>\n",
       "    .dataframe tbody tr th:only-of-type {\n",
       "        vertical-align: middle;\n",
       "    }\n",
       "\n",
       "    .dataframe tbody tr th {\n",
       "        vertical-align: top;\n",
       "    }\n",
       "\n",
       "    .dataframe thead th {\n",
       "        text-align: right;\n",
       "    }\n",
       "</style>\n",
       "<table border=\"1\" class=\"dataframe\">\n",
       "  <thead>\n",
       "    <tr style=\"text-align: right;\">\n",
       "      <th></th>\n",
       "      <th>Date</th>\n",
       "      <th>Rented Bike Count</th>\n",
       "      <th>Hour</th>\n",
       "      <th>Temperature(°C)</th>\n",
       "      <th>Humidity(%)</th>\n",
       "      <th>Wind speed (m/s)</th>\n",
       "      <th>Visibility (10m)</th>\n",
       "      <th>Dew point temperature(°C)</th>\n",
       "      <th>Solar Radiation (MJ/m2)</th>\n",
       "      <th>Rainfall(mm)</th>\n",
       "      <th>Snowfall (cm)</th>\n",
       "      <th>Functioning Day</th>\n",
       "      <th>Seasons_Autumn</th>\n",
       "      <th>Seasons_Spring</th>\n",
       "      <th>Seasons_Summer</th>\n",
       "      <th>Seasons_Winter</th>\n",
       "      <th>Holiday_Holiday</th>\n",
       "      <th>Holiday_No Holiday</th>\n",
       "    </tr>\n",
       "  </thead>\n",
       "  <tbody>\n",
       "    <tr>\n",
       "      <th>0</th>\n",
       "      <td>01/12/2017</td>\n",
       "      <td>254</td>\n",
       "      <td>0</td>\n",
       "      <td>-5.2</td>\n",
       "      <td>37</td>\n",
       "      <td>2.2</td>\n",
       "      <td>2000</td>\n",
       "      <td>-17.6</td>\n",
       "      <td>0.0</td>\n",
       "      <td>0.0</td>\n",
       "      <td>0.0</td>\n",
       "      <td>1</td>\n",
       "      <td>0</td>\n",
       "      <td>0</td>\n",
       "      <td>0</td>\n",
       "      <td>1</td>\n",
       "      <td>0</td>\n",
       "      <td>1</td>\n",
       "    </tr>\n",
       "    <tr>\n",
       "      <th>1</th>\n",
       "      <td>01/12/2017</td>\n",
       "      <td>204</td>\n",
       "      <td>1</td>\n",
       "      <td>-5.5</td>\n",
       "      <td>38</td>\n",
       "      <td>0.8</td>\n",
       "      <td>2000</td>\n",
       "      <td>-17.6</td>\n",
       "      <td>0.0</td>\n",
       "      <td>0.0</td>\n",
       "      <td>0.0</td>\n",
       "      <td>1</td>\n",
       "      <td>0</td>\n",
       "      <td>0</td>\n",
       "      <td>0</td>\n",
       "      <td>1</td>\n",
       "      <td>0</td>\n",
       "      <td>1</td>\n",
       "    </tr>\n",
       "    <tr>\n",
       "      <th>2</th>\n",
       "      <td>01/12/2017</td>\n",
       "      <td>173</td>\n",
       "      <td>2</td>\n",
       "      <td>-6.0</td>\n",
       "      <td>39</td>\n",
       "      <td>1.0</td>\n",
       "      <td>2000</td>\n",
       "      <td>-17.7</td>\n",
       "      <td>0.0</td>\n",
       "      <td>0.0</td>\n",
       "      <td>0.0</td>\n",
       "      <td>1</td>\n",
       "      <td>0</td>\n",
       "      <td>0</td>\n",
       "      <td>0</td>\n",
       "      <td>1</td>\n",
       "      <td>0</td>\n",
       "      <td>1</td>\n",
       "    </tr>\n",
       "    <tr>\n",
       "      <th>3</th>\n",
       "      <td>01/12/2017</td>\n",
       "      <td>107</td>\n",
       "      <td>3</td>\n",
       "      <td>-6.2</td>\n",
       "      <td>40</td>\n",
       "      <td>0.9</td>\n",
       "      <td>2000</td>\n",
       "      <td>-17.6</td>\n",
       "      <td>0.0</td>\n",
       "      <td>0.0</td>\n",
       "      <td>0.0</td>\n",
       "      <td>1</td>\n",
       "      <td>0</td>\n",
       "      <td>0</td>\n",
       "      <td>0</td>\n",
       "      <td>1</td>\n",
       "      <td>0</td>\n",
       "      <td>1</td>\n",
       "    </tr>\n",
       "    <tr>\n",
       "      <th>4</th>\n",
       "      <td>01/12/2017</td>\n",
       "      <td>78</td>\n",
       "      <td>4</td>\n",
       "      <td>-6.0</td>\n",
       "      <td>36</td>\n",
       "      <td>2.3</td>\n",
       "      <td>2000</td>\n",
       "      <td>-18.6</td>\n",
       "      <td>0.0</td>\n",
       "      <td>0.0</td>\n",
       "      <td>0.0</td>\n",
       "      <td>1</td>\n",
       "      <td>0</td>\n",
       "      <td>0</td>\n",
       "      <td>0</td>\n",
       "      <td>1</td>\n",
       "      <td>0</td>\n",
       "      <td>1</td>\n",
       "    </tr>\n",
       "    <tr>\n",
       "      <th>...</th>\n",
       "      <td>...</td>\n",
       "      <td>...</td>\n",
       "      <td>...</td>\n",
       "      <td>...</td>\n",
       "      <td>...</td>\n",
       "      <td>...</td>\n",
       "      <td>...</td>\n",
       "      <td>...</td>\n",
       "      <td>...</td>\n",
       "      <td>...</td>\n",
       "      <td>...</td>\n",
       "      <td>...</td>\n",
       "      <td>...</td>\n",
       "      <td>...</td>\n",
       "      <td>...</td>\n",
       "      <td>...</td>\n",
       "      <td>...</td>\n",
       "      <td>...</td>\n",
       "    </tr>\n",
       "    <tr>\n",
       "      <th>8755</th>\n",
       "      <td>30/11/2018</td>\n",
       "      <td>1003</td>\n",
       "      <td>19</td>\n",
       "      <td>4.2</td>\n",
       "      <td>34</td>\n",
       "      <td>2.6</td>\n",
       "      <td>1894</td>\n",
       "      <td>-10.3</td>\n",
       "      <td>0.0</td>\n",
       "      <td>0.0</td>\n",
       "      <td>0.0</td>\n",
       "      <td>1</td>\n",
       "      <td>1</td>\n",
       "      <td>0</td>\n",
       "      <td>0</td>\n",
       "      <td>0</td>\n",
       "      <td>0</td>\n",
       "      <td>1</td>\n",
       "    </tr>\n",
       "    <tr>\n",
       "      <th>8756</th>\n",
       "      <td>30/11/2018</td>\n",
       "      <td>764</td>\n",
       "      <td>20</td>\n",
       "      <td>3.4</td>\n",
       "      <td>37</td>\n",
       "      <td>2.3</td>\n",
       "      <td>2000</td>\n",
       "      <td>-9.9</td>\n",
       "      <td>0.0</td>\n",
       "      <td>0.0</td>\n",
       "      <td>0.0</td>\n",
       "      <td>1</td>\n",
       "      <td>1</td>\n",
       "      <td>0</td>\n",
       "      <td>0</td>\n",
       "      <td>0</td>\n",
       "      <td>0</td>\n",
       "      <td>1</td>\n",
       "    </tr>\n",
       "    <tr>\n",
       "      <th>8757</th>\n",
       "      <td>30/11/2018</td>\n",
       "      <td>694</td>\n",
       "      <td>21</td>\n",
       "      <td>2.6</td>\n",
       "      <td>39</td>\n",
       "      <td>0.3</td>\n",
       "      <td>1968</td>\n",
       "      <td>-9.9</td>\n",
       "      <td>0.0</td>\n",
       "      <td>0.0</td>\n",
       "      <td>0.0</td>\n",
       "      <td>1</td>\n",
       "      <td>1</td>\n",
       "      <td>0</td>\n",
       "      <td>0</td>\n",
       "      <td>0</td>\n",
       "      <td>0</td>\n",
       "      <td>1</td>\n",
       "    </tr>\n",
       "    <tr>\n",
       "      <th>8758</th>\n",
       "      <td>30/11/2018</td>\n",
       "      <td>712</td>\n",
       "      <td>22</td>\n",
       "      <td>2.1</td>\n",
       "      <td>41</td>\n",
       "      <td>1.0</td>\n",
       "      <td>1859</td>\n",
       "      <td>-9.8</td>\n",
       "      <td>0.0</td>\n",
       "      <td>0.0</td>\n",
       "      <td>0.0</td>\n",
       "      <td>1</td>\n",
       "      <td>1</td>\n",
       "      <td>0</td>\n",
       "      <td>0</td>\n",
       "      <td>0</td>\n",
       "      <td>0</td>\n",
       "      <td>1</td>\n",
       "    </tr>\n",
       "    <tr>\n",
       "      <th>8759</th>\n",
       "      <td>30/11/2018</td>\n",
       "      <td>584</td>\n",
       "      <td>23</td>\n",
       "      <td>1.9</td>\n",
       "      <td>43</td>\n",
       "      <td>1.3</td>\n",
       "      <td>1909</td>\n",
       "      <td>-9.3</td>\n",
       "      <td>0.0</td>\n",
       "      <td>0.0</td>\n",
       "      <td>0.0</td>\n",
       "      <td>1</td>\n",
       "      <td>1</td>\n",
       "      <td>0</td>\n",
       "      <td>0</td>\n",
       "      <td>0</td>\n",
       "      <td>0</td>\n",
       "      <td>1</td>\n",
       "    </tr>\n",
       "  </tbody>\n",
       "</table>\n",
       "<p>8760 rows × 18 columns</p>\n",
       "</div>"
      ],
      "text/plain": [
       "            Date  Rented Bike Count  Hour  Temperature(°C)  Humidity(%)  \\\n",
       "0     01/12/2017                254     0             -5.2           37   \n",
       "1     01/12/2017                204     1             -5.5           38   \n",
       "2     01/12/2017                173     2             -6.0           39   \n",
       "3     01/12/2017                107     3             -6.2           40   \n",
       "4     01/12/2017                 78     4             -6.0           36   \n",
       "...          ...                ...   ...              ...          ...   \n",
       "8755  30/11/2018               1003    19              4.2           34   \n",
       "8756  30/11/2018                764    20              3.4           37   \n",
       "8757  30/11/2018                694    21              2.6           39   \n",
       "8758  30/11/2018                712    22              2.1           41   \n",
       "8759  30/11/2018                584    23              1.9           43   \n",
       "\n",
       "      Wind speed (m/s)  Visibility (10m)  Dew point temperature(°C)  \\\n",
       "0                  2.2              2000                      -17.6   \n",
       "1                  0.8              2000                      -17.6   \n",
       "2                  1.0              2000                      -17.7   \n",
       "3                  0.9              2000                      -17.6   \n",
       "4                  2.3              2000                      -18.6   \n",
       "...                ...               ...                        ...   \n",
       "8755               2.6              1894                      -10.3   \n",
       "8756               2.3              2000                       -9.9   \n",
       "8757               0.3              1968                       -9.9   \n",
       "8758               1.0              1859                       -9.8   \n",
       "8759               1.3              1909                       -9.3   \n",
       "\n",
       "      Solar Radiation (MJ/m2)  Rainfall(mm)  Snowfall (cm)  Functioning Day  \\\n",
       "0                         0.0           0.0            0.0                1   \n",
       "1                         0.0           0.0            0.0                1   \n",
       "2                         0.0           0.0            0.0                1   \n",
       "3                         0.0           0.0            0.0                1   \n",
       "4                         0.0           0.0            0.0                1   \n",
       "...                       ...           ...            ...              ...   \n",
       "8755                      0.0           0.0            0.0                1   \n",
       "8756                      0.0           0.0            0.0                1   \n",
       "8757                      0.0           0.0            0.0                1   \n",
       "8758                      0.0           0.0            0.0                1   \n",
       "8759                      0.0           0.0            0.0                1   \n",
       "\n",
       "      Seasons_Autumn  Seasons_Spring  Seasons_Summer  Seasons_Winter  \\\n",
       "0                  0               0               0               1   \n",
       "1                  0               0               0               1   \n",
       "2                  0               0               0               1   \n",
       "3                  0               0               0               1   \n",
       "4                  0               0               0               1   \n",
       "...              ...             ...             ...             ...   \n",
       "8755               1               0               0               0   \n",
       "8756               1               0               0               0   \n",
       "8757               1               0               0               0   \n",
       "8758               1               0               0               0   \n",
       "8759               1               0               0               0   \n",
       "\n",
       "      Holiday_Holiday  Holiday_No Holiday  \n",
       "0                   0                   1  \n",
       "1                   0                   1  \n",
       "2                   0                   1  \n",
       "3                   0                   1  \n",
       "4                   0                   1  \n",
       "...               ...                 ...  \n",
       "8755                0                   1  \n",
       "8756                0                   1  \n",
       "8757                0                   1  \n",
       "8758                0                   1  \n",
       "8759                0                   1  \n",
       "\n",
       "[8760 rows x 18 columns]"
      ]
     },
     "execution_count": 11,
     "metadata": {},
     "output_type": "execute_result"
    }
   ],
   "source": [
    "df = pd.get_dummies(df, columns=['Seasons','Holiday'])\n",
    "df[\"Functioning Day\"] = df[\"Functioning Day\"].map({'Yes':1, 'No':0})\n",
    "df"
   ]
  },
  {
   "cell_type": "code",
   "execution_count": 12,
   "metadata": {},
   "outputs": [],
   "source": [
    "# Reordenando as colunas do dataframe\n",
    "\n",
    "df = df[['Date', 'Rented Bike Count', 'Hour', 'Temperature(°C)', 'Humidity(%)', 'Wind speed (m/s)', 'Visibility (10m)', 'Dew point temperature(°C)', 'Solar Radiation (MJ/m2)', 'Rainfall(mm)', 'Snowfall (cm)', 'Seasons_Autumn', 'Seasons_Spring', 'Seasons_Summer', 'Seasons_Winter', 'Holiday_Holiday', 'Holiday_No Holiday', 'Functioning Day']]"
   ]
  },
  {
   "cell_type": "markdown",
   "metadata": {},
   "source": [
    "##### Dados ausentes (missing values)"
   ]
  },
  {
   "cell_type": "code",
   "execution_count": 6,
   "metadata": {},
   "outputs": [
    {
     "name": "stdout",
     "output_type": "stream",
     "text": [
      "Valores ausentes (NaN) em:\n",
      "Unnamed: 0 : False  ->  0\n",
      "UF : False  ->  0\n",
      "Qtd_Moradores : False  ->  0\n",
      "Sexo : False  ->  0\n",
      "Idade : False  ->  0\n",
      "Cor_Raca : False  ->  0\n",
      "V_Ofensa : False  ->  0\n",
      "V_Grito : False  ->  0\n",
      "V_Rede_Social : False  ->  0\n",
      "V_Ameaca : False  ->  0\n",
      "V_Destruiu : False  ->  0\n",
      "F_Tapa : False  ->  0\n",
      "F_Empurrou : False  ->  0\n",
      "F_Soco : False  ->  0\n",
      "F_Enforca : False  ->  0\n",
      "F_Ameaca : False  ->  0\n",
      "S_T_Toque : False  ->  0\n",
      "S_T_Ameaca : False  ->  0\n"
     ]
    }
   ],
   "source": [
    "# Verificando valores ausentes (NaN) nas variáveis\n",
    "\n",
    "print('Valores ausentes (NaN) em:')\n",
    "for col in [df.columns[i] for i in range(0, len(df.columns))]:\n",
    "    print(col,':', any(df[col].isna()), \" -> \", df[col].isnull().sum())"
   ]
  },
  {
   "cell_type": "markdown",
   "metadata": {},
   "source": [
    "#### Preparação dos dados"
   ]
  },
  {
   "cell_type": "code",
   "execution_count": 14,
   "metadata": {},
   "outputs": [
    {
     "name": "stdout",
     "output_type": "stream",
     "text": [
      "(8760, 18)\n",
      "Index(['Date', 'Rented Bike Count', 'Hour', 'Temperature(°C)', 'Humidity(%)',\n",
      "       'Wind speed (m/s)', 'Visibility (10m)', 'Dew point temperature(°C)',\n",
      "       'Solar Radiation (MJ/m2)', 'Rainfall(mm)', 'Snowfall (cm)',\n",
      "       'Seasons_Autumn', 'Seasons_Spring', 'Seasons_Summer', 'Seasons_Winter',\n",
      "       'Holiday_Holiday', 'Holiday_No Holiday', 'Functioning Day'],\n",
      "      dtype='object')\n"
     ]
    },
    {
     "data": {
      "text/html": [
       "<div>\n",
       "<style scoped>\n",
       "    .dataframe tbody tr th:only-of-type {\n",
       "        vertical-align: middle;\n",
       "    }\n",
       "\n",
       "    .dataframe tbody tr th {\n",
       "        vertical-align: top;\n",
       "    }\n",
       "\n",
       "    .dataframe thead th {\n",
       "        text-align: right;\n",
       "    }\n",
       "</style>\n",
       "<table border=\"1\" class=\"dataframe\">\n",
       "  <thead>\n",
       "    <tr style=\"text-align: right;\">\n",
       "      <th></th>\n",
       "      <th>Date</th>\n",
       "      <th>Rented Bike Count</th>\n",
       "      <th>Hour</th>\n",
       "      <th>Temperature(°C)</th>\n",
       "      <th>Humidity(%)</th>\n",
       "      <th>Wind speed (m/s)</th>\n",
       "      <th>Visibility (10m)</th>\n",
       "      <th>Dew point temperature(°C)</th>\n",
       "      <th>Solar Radiation (MJ/m2)</th>\n",
       "      <th>Rainfall(mm)</th>\n",
       "      <th>Snowfall (cm)</th>\n",
       "      <th>Seasons_Autumn</th>\n",
       "      <th>Seasons_Spring</th>\n",
       "      <th>Seasons_Summer</th>\n",
       "      <th>Seasons_Winter</th>\n",
       "      <th>Holiday_Holiday</th>\n",
       "      <th>Holiday_No Holiday</th>\n",
       "      <th>Functioning Day</th>\n",
       "    </tr>\n",
       "  </thead>\n",
       "  <tbody>\n",
       "    <tr>\n",
       "      <th>0</th>\n",
       "      <td>01/12/2017</td>\n",
       "      <td>254</td>\n",
       "      <td>0</td>\n",
       "      <td>-5.2</td>\n",
       "      <td>37</td>\n",
       "      <td>2.2</td>\n",
       "      <td>2000</td>\n",
       "      <td>-17.6</td>\n",
       "      <td>0.0</td>\n",
       "      <td>0.0</td>\n",
       "      <td>0.0</td>\n",
       "      <td>0</td>\n",
       "      <td>0</td>\n",
       "      <td>0</td>\n",
       "      <td>1</td>\n",
       "      <td>0</td>\n",
       "      <td>1</td>\n",
       "      <td>1</td>\n",
       "    </tr>\n",
       "    <tr>\n",
       "      <th>1</th>\n",
       "      <td>01/12/2017</td>\n",
       "      <td>204</td>\n",
       "      <td>1</td>\n",
       "      <td>-5.5</td>\n",
       "      <td>38</td>\n",
       "      <td>0.8</td>\n",
       "      <td>2000</td>\n",
       "      <td>-17.6</td>\n",
       "      <td>0.0</td>\n",
       "      <td>0.0</td>\n",
       "      <td>0.0</td>\n",
       "      <td>0</td>\n",
       "      <td>0</td>\n",
       "      <td>0</td>\n",
       "      <td>1</td>\n",
       "      <td>0</td>\n",
       "      <td>1</td>\n",
       "      <td>1</td>\n",
       "    </tr>\n",
       "    <tr>\n",
       "      <th>2</th>\n",
       "      <td>01/12/2017</td>\n",
       "      <td>173</td>\n",
       "      <td>2</td>\n",
       "      <td>-6.0</td>\n",
       "      <td>39</td>\n",
       "      <td>1.0</td>\n",
       "      <td>2000</td>\n",
       "      <td>-17.7</td>\n",
       "      <td>0.0</td>\n",
       "      <td>0.0</td>\n",
       "      <td>0.0</td>\n",
       "      <td>0</td>\n",
       "      <td>0</td>\n",
       "      <td>0</td>\n",
       "      <td>1</td>\n",
       "      <td>0</td>\n",
       "      <td>1</td>\n",
       "      <td>1</td>\n",
       "    </tr>\n",
       "  </tbody>\n",
       "</table>\n",
       "</div>"
      ],
      "text/plain": [
       "         Date  Rented Bike Count  Hour  Temperature(°C)  Humidity(%)  \\\n",
       "0  01/12/2017                254     0             -5.2           37   \n",
       "1  01/12/2017                204     1             -5.5           38   \n",
       "2  01/12/2017                173     2             -6.0           39   \n",
       "\n",
       "   Wind speed (m/s)  Visibility (10m)  Dew point temperature(°C)  \\\n",
       "0               2.2              2000                      -17.6   \n",
       "1               0.8              2000                      -17.6   \n",
       "2               1.0              2000                      -17.7   \n",
       "\n",
       "   Solar Radiation (MJ/m2)  Rainfall(mm)  Snowfall (cm)  Seasons_Autumn  \\\n",
       "0                      0.0           0.0            0.0               0   \n",
       "1                      0.0           0.0            0.0               0   \n",
       "2                      0.0           0.0            0.0               0   \n",
       "\n",
       "   Seasons_Spring  Seasons_Summer  Seasons_Winter  Holiday_Holiday  \\\n",
       "0               0               0               1                0   \n",
       "1               0               0               1                0   \n",
       "2               0               0               1                0   \n",
       "\n",
       "   Holiday_No Holiday  Functioning Day  \n",
       "0                   1                1  \n",
       "1                   1                1  \n",
       "2                   1                1  "
      ]
     },
     "execution_count": 14,
     "metadata": {},
     "output_type": "execute_result"
    }
   ],
   "source": [
    "# Remove a coluna 'Unnamed'\n",
    "df = df.loc[:, ~df.columns.str.contains('^Unnamed')]\n",
    "\n",
    "# Remove as colunas e linhas com NaN\n",
    "df = df.dropna()\n",
    "\n",
    "# Remove todas as colunas que contém apenas zeros\n",
    "#df = df.loc[:, (df != 0).any(axis=0)]\n",
    "\n",
    "#df = df.drop(columns=['sha','comments','status', 'filenames', 'name', 'fullname'])\n",
    "#df = df.select_dtypes(exclude=['object'])\n",
    "\n",
    "# Busca as colunas que são 'object'\n",
    "#cols = df.columns[df.dtypes.eq('object')]\n",
    "#print(cols)\n",
    "# Converte as colunas 'object' para 'numeric'\n",
    "#df[cols] = df[cols].apply(pd.to_numeric, errors='coerce')\n",
    "\n",
    "print(df.shape)\n",
    "print(df.columns)\n",
    "df.head(3)"
   ]
  },
  {
   "cell_type": "markdown",
   "metadata": {},
   "source": [
    "##### Padronização dos dados"
   ]
  },
  {
   "cell_type": "code",
   "execution_count": 7,
   "metadata": {},
   "outputs": [],
   "source": [
    "# Padronização do dataset (média e desvio padrão, valores entre -1 e 1)\n",
    "\n",
    "normalized_df = (df - df.mean()) / df.std()\n",
    "# normalized_df = df.apply(lambda x: (x - x.mean()) / x.std(), axis=0) # Modo alternativo"
   ]
  },
  {
   "cell_type": "markdown",
   "metadata": {},
   "source": [
    "##### Normalização dos dados"
   ]
  },
  {
   "cell_type": "code",
   "execution_count": 8,
   "metadata": {},
   "outputs": [],
   "source": [
    "# Normalização do dataset (mínimo e máximo, valores entre 0 e 1)\n",
    "\n",
    "df = (df - df.min()) / (df.max() - df.min())\n",
    "\n",
    "from sklearn import preprocessing # Modo alternativo\n",
    "min_max_scaler = preprocessing.MinMaxScaler()\n",
    "x = df.values # Retorna um array do tipo numpy\n",
    "x_scaled = min_max_scaler.fit_transform(x)\n",
    "normalized_df = pd.DataFrame(x_scaled)"
   ]
  },
  {
   "cell_type": "markdown",
   "metadata": {},
   "source": [
    "##### Salva o arquivo para CSV"
   ]
  },
  {
   "cell_type": "code",
   "execution_count": 9,
   "metadata": {},
   "outputs": [],
   "source": [
    "df.to_csv('new_file.csv', sep=';', index=False)"
   ]
  },
  {
   "cell_type": "markdown",
   "metadata": {},
   "source": [
    "#### Separa os dados "
   ]
  },
  {
   "cell_type": "code",
   "execution_count": 10,
   "metadata": {
    "pycharm": {
     "is_executing": false
    }
   },
   "outputs": [
    {
     "data": {
      "text/plain": [
       "array([[0.00000000e+00, 0.00000000e+00, 2.50000000e-01, ...,\n",
       "        0.00000000e+00, 1.00000000e+00, 0.00000000e+00],\n",
       "       [5.01170591e-05, 0.00000000e+00, 7.50000000e-01, ...,\n",
       "        0.00000000e+00, 0.00000000e+00, 0.00000000e+00],\n",
       "       [7.15957988e-05, 0.00000000e+00, 5.00000000e-01, ...,\n",
       "        0.00000000e+00, 0.00000000e+00, 0.00000000e+00],\n",
       "       ...,\n",
       "       [9.99917665e-01, 1.00000000e+00, 2.50000000e-01, ...,\n",
       "        0.00000000e+00, 0.00000000e+00, 0.00000000e+00],\n",
       "       [9.99978521e-01, 1.00000000e+00, 2.50000000e-01, ...,\n",
       "        1.00000000e+00, 0.00000000e+00, 0.00000000e+00],\n",
       "       [1.00000000e+00, 1.00000000e+00, 5.00000000e-01, ...,\n",
       "        0.00000000e+00, 0.00000000e+00, 0.00000000e+00]])"
      ]
     },
     "execution_count": 10,
     "metadata": {},
     "output_type": "execute_result"
    }
   ],
   "source": [
    "seed = 1 # Para que a separação dos dados ocorra sempre a partir da mesma semente (seed), e seja reproduzível em qualquer execução\n",
    "array = df.values\n",
    "array"
   ]
  },
  {
   "cell_type": "code",
   "execution_count": 11,
   "metadata": {},
   "outputs": [
    {
     "name": "stdout",
     "output_type": "stream",
     "text": [
      "X: 13262 y: 13262\n"
     ]
    }
   ],
   "source": [
    "X = array[:,1:len(df.columns)-1]\n",
    "y = array[:,len(df.columns)-1].astype('int') # Para os regressores o tipo da classe deve ser 'int'\n",
    "print(\"X:\", len(X), \"y:\", len(y))"
   ]
  },
  {
   "cell_type": "markdown",
   "metadata": {},
   "source": [
    "##### Define o conjunto de treino e teste"
   ]
  },
  {
   "cell_type": "code",
   "execution_count": 12,
   "metadata": {},
   "outputs": [
    {
     "name": "stdout",
     "output_type": "stream",
     "text": [
      "[[0.92857143 0.5        1.         ... 1.         1.         0.        ]\n",
      " [0.92857143 0.         1.         ... 0.         0.         0.        ]\n",
      " [0.35714286 0.         1.         ... 0.         0.         0.        ]\n",
      " ...\n",
      " [0.35714286 0.25       1.         ... 0.         0.         0.        ]\n",
      " [0.95238095 0.5        1.         ... 0.         0.         0.        ]\n",
      " [0.         0.5        1.         ... 0.         0.         0.        ]]\n",
      "[[0.02380952 0.75       1.         ... 0.         0.         0.        ]\n",
      " [0.47619048 0.75       1.         ... 1.         1.         0.        ]\n",
      " [0.57142857 0.5        1.         ... 0.         0.         0.        ]\n",
      " ...\n",
      " [0.97619048 0.         0.         ... 0.         0.         0.        ]\n",
      " [1.         0.25       1.         ... 0.         0.         0.        ]\n",
      " [0.76190476 0.5        0.         ... 0.         0.         0.        ]]\n",
      "[0 0 0 ... 0 0 0]\n",
      "[0 0 0 ... 0 0 0]\n"
     ]
    }
   ],
   "source": [
    "test_size = 0.3 # Porcentagem do conjunto de teste\n",
    "X_train, X_test, y_train, y_test = model_selection.train_test_split(X, y, test_size=test_size, random_state=seed)\n",
    "\n",
    "print(X_train)\n",
    "print(X_test)\n",
    "print(y_train)\n",
    "print(y_test)\n"
   ]
  },
  {
   "cell_type": "markdown",
   "metadata": {},
   "source": [
    "---\n",
    "\n",
    "## Algoritmos Regressores de Machine Learning"
   ]
  },
  {
   "cell_type": "markdown",
   "metadata": {},
   "source": [
    "#### Modelos de Machine Learning"
   ]
  },
  {
   "cell_type": "code",
   "execution_count": 17,
   "metadata": {
    "pycharm": {
     "is_executing": false
    },
    "scrolled": true
   },
   "outputs": [
    {
     "name": "stdout",
     "output_type": "stream",
     "text": [
      "^C\n",
      "Note: you may need to restart the kernel to use updated packages.\n",
      "Requirement already satisfied: scikit-learn in f:\\programas\\anaconda\\lib\\site-packages (1.0.2)\n",
      "Requirement already satisfied: threadpoolctl>=2.0.0 in f:\\programas\\anaconda\\lib\\site-packages (from scikit-learn) (2.2.0)\n",
      "Requirement already satisfied: numpy>=1.14.6 in f:\\programas\\anaconda\\lib\\site-packages (from scikit-learn) (1.21.5)\n",
      "Requirement already satisfied: scipy>=1.1.0 in f:\\programas\\anaconda\\lib\\site-packages (from scikit-learn) (1.9.1)\n",
      "Requirement already satisfied: joblib>=0.11 in f:\\programas\\anaconda\\lib\\site-packages (from scikit-learn) (1.1.0)\n",
      "Note: you may need to restart the kernel to use updated packages.\n"
     ]
    },
    {
     "ename": "ImportError",
     "evalue": "cannot import name 'linear_regression' from 'sklearn' (f:\\Programas\\Anaconda\\lib\\site-packages\\sklearn\\__init__.py)",
     "output_type": "error",
     "traceback": [
      "\u001b[1;31m---------------------------------------------------------------------------\u001b[0m",
      "\u001b[1;31mImportError\u001b[0m                               Traceback (most recent call last)",
      "\u001b[1;32m~\\AppData\\Local\\Temp\\ipykernel_2284\\2266539091.py\u001b[0m in \u001b[0;36m<module>\u001b[1;34m\u001b[0m\n\u001b[0;32m      1\u001b[0m \u001b[0mget_ipython\u001b[0m\u001b[1;33m(\u001b[0m\u001b[1;33m)\u001b[0m\u001b[1;33m.\u001b[0m\u001b[0mrun_line_magic\u001b[0m\u001b[1;33m(\u001b[0m\u001b[1;34m'pip'\u001b[0m\u001b[1;33m,\u001b[0m \u001b[1;34m'uninstall scikit-learn'\u001b[0m\u001b[1;33m)\u001b[0m\u001b[1;33m\u001b[0m\u001b[1;33m\u001b[0m\u001b[0m\n\u001b[0;32m      2\u001b[0m \u001b[0mget_ipython\u001b[0m\u001b[1;33m(\u001b[0m\u001b[1;33m)\u001b[0m\u001b[1;33m.\u001b[0m\u001b[0mrun_line_magic\u001b[0m\u001b[1;33m(\u001b[0m\u001b[1;34m'pip'\u001b[0m\u001b[1;33m,\u001b[0m \u001b[1;34m'install scikit-learn'\u001b[0m\u001b[1;33m)\u001b[0m\u001b[1;33m\u001b[0m\u001b[1;33m\u001b[0m\u001b[0m\n\u001b[1;32m----> 3\u001b[1;33m \u001b[1;32mfrom\u001b[0m \u001b[0msklearn\u001b[0m \u001b[1;32mimport\u001b[0m \u001b[0mlinear_regression\u001b[0m\u001b[1;33m\u001b[0m\u001b[1;33m\u001b[0m\u001b[0m\n\u001b[0m\u001b[0;32m      4\u001b[0m \u001b[1;33m\u001b[0m\u001b[0m\n\u001b[0;32m      5\u001b[0m \u001b[0mmodels\u001b[0m \u001b[1;33m=\u001b[0m \u001b[1;33m[\u001b[0m\u001b[1;33m]\u001b[0m\u001b[1;33m\u001b[0m\u001b[1;33m\u001b[0m\u001b[0m\n",
      "\u001b[1;31mImportError\u001b[0m: cannot import name 'linear_regression' from 'sklearn' (f:\\Programas\\Anaconda\\lib\\site-packages\\sklearn\\__init__.py)"
     ]
    }
   ],
   "source": [
    "%pip uninstall scikit-learn\n",
    "%pip install scikit-learn\n",
    "from sklearn import linear_regression\n",
    "\n",
    "models = []\n",
    "\n",
    "models.append(('LGR', LogisticRegression()))\n",
    "models.append(('LNR', LinearRegression()))\n",
    "models.append(('KNN', KNeighborsRegressor()))\n",
    "models.append(('DT', DecisionTreeRegressor()))\n",
    "models.append(('SVM', LinearSVR()))\n",
    "models.append(('RF', RandomForestRegressor()))\n",
    "models.append(('ADA', AdaBoostRegressor()))\n",
    "models.append\n",
    "\n",
    "models.append"
   ]
  },
  {
   "cell_type": "code",
   "execution_count": 22,
   "metadata": {},
   "outputs": [
    {
     "name": "stdout",
     "output_type": "stream",
     "text": [
      ">>> Início do treinamento...\n",
      "LGR: 0.999969 (0.000094)\n",
      "LNR: 0.970551 (0.010928)\n",
      "KNN: 0.991465 (0.012552)\n",
      "DT: 1.000000 (0.000000)\n",
      "SVM: 0.923790 (0.063914)\n",
      "RF: 1.000000 (0.000000)\n",
      "ADA: 0.999830 (0.000339)\n",
      ">>> Processo de treinamento finalizado!\n"
     ]
    }
   ],
   "source": [
    "import warnings\n",
    "warnings.filterwarnings('ignore')\n",
    " \n",
    "scoring = 'roc_auc' # Representa a relação entre a sensibilidade e especificidade de um teste quantitativo\n",
    "\n",
    "# #metrics = ['neg_mean_absolute_error', 'neg_mean_squared_error', 'r2']\n",
    "# #metrics = ['r2', 'roc_auc']\n",
    "# metrics = 'roc_auc'\n",
    "\n",
    "results = []\n",
    "names = []\n",
    "\n",
    "print(\">>> Início do treinamento...\")\n",
    "for name, model in models:\n",
    "    kfold = model_selection.KFold(n_splits=10, random_state=None, shuffle=False)\n",
    "    #kfold = model_selection.KFold(n_splits=10, random_state=seed, shuffle=True)\n",
    "    cv_results = model_selection.cross_val_score(model, X_train, y_train, cv=kfold, scoring=scoring)\n",
    "    results.append(cv_results)\n",
    "    names.append(name)\n",
    "    msg = \"%s: %f (%f)\" % (name, cv_results.mean(), cv_results.std())\n",
    "    print(msg)\n",
    "\n",
    "print(\">>> Processo de treinamento finalizado!\")"
   ]
  },
  {
   "cell_type": "code",
   "execution_count": 23,
   "metadata": {
    "pycharm": {
     "is_executing": false
    }
   },
   "outputs": [
    {
     "data": {
      "image/png": "[encoded data removed]",
      "text/plain": [
       "<Figure size 640x480 with 1 Axes>"
      ]
     },
     "metadata": {},
     "output_type": "display_data"
    }
   ],
   "source": [
    "fig = plt.figure()\n",
    "fig.suptitle('Comparação entre algoritmos de ML')\n",
    "ax = fig.add_subplot(111)\n",
    "plt.boxplot(results)\n",
    "ax.set_xticklabels(names)\n",
    "plt.show()\n",
    "#fig.savefig('baseline-algorithms.png')"
   ]
  },
  {
   "cell_type": "code",
   "execution_count": 24,
   "metadata": {
    "pycharm": {
     "is_executing": false
    },
    "scrolled": true
   },
   "outputs": [
    {
     "name": "stdout",
     "output_type": "stream",
     "text": [
      "Ex.V:  0.9882471367215462\n",
      "MSLE:  0.00018282078155182701\n",
      "R2  :  0.988242662848962\n",
      "MAE :  0.000380517503805175\n",
      "MSE :  0.000380517503805175\n",
      "RMSE:  0.01950685786602176\n"
     ]
    }
   ],
   "source": [
    "lg = LogisticRegression()\n",
    "lg.fit(X_train, y_train)\n",
    "predict = lg.predict(X_test)\n",
    "explained_variance = metrics.explained_variance_score(y_test, predict)\n",
    "mean_absolute_error = metrics.mean_absolute_error(y_test, predict) \n",
    "mse = metrics.mean_squared_error(y_test, predict) \n",
    "mean_squared_log_error = metrics.mean_squared_log_error(y_test, predict)\n",
    "median_absolute_error = metrics.median_absolute_error(y_test, predict)\n",
    "r2 = metrics.r2_score(y_test, predict)\n",
    "print('Ex.V: ', explained_variance)\n",
    "print('MSLE: ', mean_squared_log_error)\n",
    "print('R2  : ', r2)\n",
    "print('MAE : ', mean_absolute_error)\n",
    "print('MSE : ', mse)\n",
    "print('RMSE: ', np.sqrt(mse))\n",
    "#OLS(y_test, predictions).fit().summary()"
   ]
  },
  {
   "cell_type": "code",
   "execution_count": 25,
   "metadata": {
    "pycharm": {
     "is_executing": false
    }
   },
   "outputs": [
    {
     "name": "stdout",
     "output_type": "stream",
     "text": [
      "Ex.V:  0.19287033301640233\n",
      "MSLE:  0.012641455420377236\n",
      "R2  :  0.19284159138749535\n",
      "MAE :  0.08225510991586484\n",
      "MSE :  0.026123083728484695\n",
      "RMSE:  0.16162637077062855\n"
     ]
    }
   ],
   "source": [
    "ln = LinearRegression()\n",
    "ln.fit(X_train, y_train)\n",
    "predict = ln.predict(X_test)\n",
    "explained_variance = metrics.explained_variance_score(y_test, predict)\n",
    "mean_absolute_error = metrics.mean_absolute_error(y_test, predict) \n",
    "mse = metrics.mean_squared_error(y_test, predict) \n",
    "mean_squared_log_error = metrics.mean_squared_log_error(y_test, predict)\n",
    "median_absolute_error = metrics.median_absolute_error(y_test, predict)\n",
    "r2 = metrics.r2_score(y_test, predict)\n",
    "print('Ex.V: ', explained_variance)\n",
    "print('MSLE: ', mean_squared_log_error)\n",
    "print('R2  : ', r2)\n",
    "print('MAE : ', mean_absolute_error)\n",
    "print('MSE : ', mse)\n",
    "print('RMSE: ', np.sqrt(mse))\n",
    "#OLS(y_test, predictions).fit().summary()"
   ]
  },
  {
   "cell_type": "code",
   "execution_count": 26,
   "metadata": {
    "pycharm": {
     "is_executing": false
    }
   },
   "outputs": [
    {
     "name": "stdout",
     "output_type": "stream",
     "text": [
      "Ex.V:  0.9008799212598425\n",
      "MSLE:  0.0017212928889690138\n",
      "R2  :  0.9007680744452398\n",
      "MAE :  0.006773211567732118\n",
      "MSE :  0.003211567732115678\n",
      "RMSE:  0.05667069553230909\n"
     ]
    }
   ],
   "source": [
    "knn = KNeighborsRegressor()\n",
    "knn.fit(X_train, y_train)\n",
    "predict = knn.predict(X_test)\n",
    "explained_variance = metrics.explained_variance_score(y_test, predict)\n",
    "mean_absolute_error = metrics.mean_absolute_error(y_test, predict) \n",
    "mse = metrics.mean_squared_error(y_test, predict) \n",
    "mean_squared_log_error = metrics.mean_squared_log_error(y_test, predict)\n",
    "median_absolute_error = metrics.median_absolute_error(y_test, predict)\n",
    "r2 = metrics.r2_score(y_test, predict)\n",
    "print('Ex.V: ', explained_variance)\n",
    "print('MSLE: ', mean_squared_log_error)\n",
    "print('R2  : ', r2)\n",
    "print('MAE : ', mean_absolute_error)\n",
    "print('MSE : ', mse)\n",
    "print('RMSE: ', np.sqrt(mse))\n",
    "#OLS(y_test, predictions).fit().summary()"
   ]
  },
  {
   "cell_type": "code",
   "execution_count": 27,
   "metadata": {
    "pycharm": {
     "is_executing": false
    }
   },
   "outputs": [
    {
     "name": "stdout",
     "output_type": "stream",
     "text": [
      "Ex.V:  1.0\n",
      "MSLE:  0.0\n",
      "R2  :  1.0\n",
      "MAE :  0.0\n",
      "MSE :  0.0\n",
      "RMSE:  0.0\n"
     ]
    }
   ],
   "source": [
    "dt = DecisionTreeRegressor()\n",
    "dt.fit(X_train, y_train)\n",
    "predict = dt.predict(X_test)\n",
    "explained_variance = metrics.explained_variance_score(y_test, predict)\n",
    "mean_absolute_error = metrics.mean_absolute_error(y_test, predict) \n",
    "mse = metrics.mean_squared_error(y_test, predict) \n",
    "mean_squared_log_error = metrics.mean_squared_log_error(y_test, predict)\n",
    "median_absolute_error = metrics.median_absolute_error(y_test, predict)\n",
    "r2 = metrics.r2_score(y_test, predict)\n",
    "print('Ex.V: ', explained_variance)\n",
    "print('MSLE: ', mean_squared_log_error)\n",
    "print('R2  : ', r2)\n",
    "print('MAE : ', mean_absolute_error)\n",
    "print('MSE : ', mse)\n",
    "print('RMSE: ', np.sqrt(mse))\n",
    "#OLS(y_test, predictions).fit().summary()"
   ]
  },
  {
   "cell_type": "code",
   "execution_count": 28,
   "metadata": {
    "pycharm": {
     "is_executing": false
    }
   },
   "outputs": [
    {
     "name": "stdout",
     "output_type": "stream",
     "text": [
      "Ex.V:  1.0\n",
      "MSLE:  0.0\n",
      "R2  :  1.0\n",
      "MAE :  0.0\n",
      "MSE :  0.0\n",
      "RMSE:  0.0\n"
     ]
    }
   ],
   "source": [
    "nb = GaussianNB()\n",
    "nb.fit(X_train, y_train)\n",
    "predict = nb.predict(X_test)\n",
    "explained_variance = metrics.explained_variance_score(y_test, predict)\n",
    "mean_absolute_error = metrics.mean_absolute_error(y_test, predict) \n",
    "mse = metrics.mean_squared_error(y_test, predict) \n",
    "mean_squared_log_error = metrics.mean_squared_log_error(y_test, predict)\n",
    "median_absolute_error = metrics.median_absolute_error(y_test, predict)\n",
    "r2 = metrics.r2_score(y_test, predict)\n",
    "print('Ex.V: ', explained_variance)\n",
    "print('MSLE: ', mean_squared_log_error)\n",
    "print('R2  : ', r2)\n",
    "print('MAE : ', mean_absolute_error)\n",
    "print('MSE : ', mse)\n",
    "print('RMSE: ', np.sqrt(mse))\n",
    "#OLS(y_test, predictions).fit().summary()"
   ]
  },
  {
   "cell_type": "code",
   "execution_count": 29,
   "metadata": {
    "pycharm": {
     "is_executing": false
    }
   },
   "outputs": [
    {
     "name": "stdout",
     "output_type": "stream",
     "text": [
      "Ex.V:  0.06034214560534623\n",
      "MSLE:  0.01423312710046584\n",
      "R2  :  0.0033116703983143703\n",
      "MAE :  0.09812174713824669\n",
      "MSE :  0.032257079165098373\n",
      "RMSE:  0.17960255890465027\n"
     ]
    }
   ],
   "source": [
    "svm = LinearSVR()\n",
    "svm.fit(X_train, y_train)\n",
    "predict = svm.predict(X_test)\n",
    "explained_variance = metrics.explained_variance_score(y_test, predict)\n",
    "mean_absolute_error = metrics.mean_absolute_error(y_test, predict) \n",
    "mse = metrics.mean_squared_error(y_test, predict) \n",
    "mean_squared_log_error = metrics.mean_squared_log_error(y_test, predict)\n",
    "median_absolute_error = metrics.median_absolute_error(y_test, predict)\n",
    "r2 = metrics.r2_score(y_test, predict)\n",
    "print('Ex.V: ', explained_variance)\n",
    "print('MSLE: ', mean_squared_log_error)\n",
    "print('R2  : ', r2)\n",
    "print('MAE : ', mean_absolute_error)\n",
    "print('MSE : ', mse)\n",
    "print('RMSE: ', np.sqrt(mse))\n",
    "#OLS(y_test, predictions).fit().summary()"
   ]
  },
  {
   "cell_type": "code",
   "execution_count": 30,
   "metadata": {
    "pycharm": {
     "is_executing": false
    }
   },
   "outputs": [
    {
     "name": "stdout",
     "output_type": "stream",
     "text": [
      "Ex.V:  0.9998013766105941\n",
      "MSLE:  1.7188036664219252e-06\n",
      "R2  :  0.9998013010021475\n",
      "MAE :  4.9467275494672755e-05\n",
      "MSE :  6.430745814307459e-06\n",
      "RMSE:  0.002535891522582829\n"
     ]
    }
   ],
   "source": [
    "rf = RandomForestRegressor()\n",
    "rf.fit(X_train, y_train)\n",
    "predict = rf.predict(X_test)\n",
    "explained_variance = metrics.explained_variance_score(y_test, predict)\n",
    "mean_absolute_error = metrics.mean_absolute_error(y_test, predict) \n",
    "mse = metrics.mean_squared_error(y_test, predict) \n",
    "mean_squared_log_error = metrics.mean_squared_log_error(y_test, predict)\n",
    "median_absolute_error = metrics.median_absolute_error(y_test, predict)\n",
    "r2 = metrics.r2_score(y_test, predict)\n",
    "print('Ex.V: ', explained_variance)\n",
    "print('MSLE: ', mean_squared_log_error)\n",
    "print('R2  : ', r2)\n",
    "print('MAE : ', mean_absolute_error)\n",
    "print('MSE : ', mse)\n",
    "print('RMSE: ', np.sqrt(mse))\n",
    "#OLS(y_test, predictions).fit().summary()"
   ]
  },
  {
   "cell_type": "code",
   "execution_count": 31,
   "metadata": {},
   "outputs": [
    {
     "name": "stdout",
     "output_type": "stream",
     "text": [
      "Ex.V:  1.0\n",
      "MSLE:  0.0\n",
      "R2  :  1.0\n",
      "MAE :  0.0\n",
      "MSE :  0.0\n",
      "RMSE:  0.0\n"
     ]
    }
   ],
   "source": [
    "ada = AdaBoostRegressor()\n",
    "ada.fit(X_train, y_train)\n",
    "predict = ada.predict(X_test)\n",
    "explained_variance = metrics.explained_variance_score(y_test, predict)\n",
    "mean_absolute_error = metrics.mean_absolute_error(y_test, predict) \n",
    "mse = metrics.mean_squared_error(y_test, predict) \n",
    "mean_squared_log_error = metrics.mean_squared_log_error(y_test, predict)\n",
    "median_absolute_error = metrics.median_absolute_error(y_test, predict)\n",
    "r2 = metrics.r2_score(y_test, predict)\n",
    "print('Ex.V: ', explained_variance)\n",
    "print('MSLE: ', mean_squared_log_error)\n",
    "print('R2  : ', r2)\n",
    "print('MAE : ', mean_absolute_error)\n",
    "print('MSE : ', mse)\n",
    "print('RMSE: ', np.sqrt(mse))\n",
    "#OLS(y_test, predictions).fit().summary()"
   ]
  },
  {
   "cell_type": "markdown",
   "metadata": {},
   "source": [
    "---\n",
    "\n",
    "## Algoritmos Classificadores de Machine Learning"
   ]
  },
  {
   "cell_type": "markdown",
   "metadata": {},
   "source": [
    "---"
   ]
  },
  {
   "cell_type": "code",
   "execution_count": 32,
   "metadata": {},
   "outputs": [
    {
     "name": "stdout",
     "output_type": "stream",
     "text": [
      "Acurária: 0.9996\n",
      "              precision    recall  f1-score   support\n",
      "\n",
      "           0       0.99      1.00      0.99        88\n",
      "           1       1.00      1.00      1.00      2540\n",
      "\n",
      "    accuracy                           1.00      2628\n",
      "   macro avg       0.99      1.00      1.00      2628\n",
      "weighted avg       1.00      1.00      1.00      2628\n",
      "\n"
     ]
    },
    {
     "data": {
      "image/png": "[encoded data removed]",
      "text/plain": [
       "<Figure size 640x480 with 2 Axes>"
      ]
     },
     "metadata": {},
     "output_type": "display_data"
    }
   ],
   "source": [
    "# Regressão Logística (Logistic Regression)\n",
    "\n",
    "from sklearn.linear_model import LogisticRegression\n",
    "\n",
    "reg = LogisticRegression()\n",
    "#reg = LogisticRegression(solver='liblinear', random_state=0)\n",
    "\n",
    "# Hyper-parâmetros da RL: penalty, max_iter, C, solver\n",
    "\n",
    "reg.fit(X_train, y_train)\n",
    "y_pred = reg.predict(X_test)\n",
    "\n",
    "from sklearn.metrics import accuracy_score\n",
    "print('Acurária: {0:0.4f}'. format(accuracy_score(y_test, y_pred)))\n",
    "\n",
    "from sklearn.metrics import confusion_matrix\n",
    "cm = confusion_matrix(y_test, y_pred)\n",
    "cm_matrix = pd.DataFrame(data=cm, columns=['Atual - Positivo: 1', 'Atual - Negativo: 0'], \n",
    "                                    index=['Predito Positivo: 1', 'Predito Negativo: 0'])\n",
    "sns.heatmap(cm_matrix, annot=True, fmt='d', cmap='YlGnBu')\n",
    "\n",
    "from sklearn.metrics import classification_report\n",
    "print(classification_report(y_test, y_pred))\n",
    "\n",
    "# Guarda as probabilidades preditas em um dataframe\n",
    "#y_pred_prob_df1 = pd.DataFrame(data=y_pred, columns=['prob.neg', 'prob.pos'])\n",
    "#y_pred_prob_df1\n"
   ]
  },
  {
   "cell_type": "code",
   "execution_count": 33,
   "metadata": {},
   "outputs": [
    {
     "name": "stdout",
     "output_type": "stream",
     "text": [
      "Acurária: 1.0000\n",
      "              precision    recall  f1-score   support\n",
      "\n",
      "           0       1.00      1.00      1.00        88\n",
      "           1       1.00      1.00      1.00      2540\n",
      "\n",
      "    accuracy                           1.00      2628\n",
      "   macro avg       1.00      1.00      1.00      2628\n",
      "weighted avg       1.00      1.00      1.00      2628\n",
      "\n"
     ]
    },
    {
     "data": {
      "image/png": "[encoded data removed]",
      "text/plain": [
       "<Figure size 640x480 with 2 Axes>"
      ]
     },
     "metadata": {},
     "output_type": "display_data"
    }
   ],
   "source": [
    "# Árvore de Decisão (Decision Tree)\n",
    "\n",
    "from sklearn.tree import DecisionTreeClassifier\n",
    "\n",
    "dtc = DecisionTreeClassifier()\n",
    "\n",
    "# Hyper-parâmetros: criterion, max_depth, min_samples_split, min_samples_leaf; max_features\n",
    "\n",
    "dtc.fit(X_train, y_train)\n",
    "y_pred = dtc.predict(X_test)\n",
    "\n",
    "from sklearn.metrics import accuracy_score\n",
    "print('Acurária: {0:0.4f}'. format(accuracy_score(y_test, y_pred)))\n",
    "\n",
    "from sklearn.metrics import confusion_matrix\n",
    "cm = confusion_matrix(y_test, y_pred)\n",
    "cm_matrix = pd.DataFrame(data=cm, columns=['Atual - Positivo: 1', 'Atual - Negativo: 0'], \n",
    "                                    index=['Predito Positivo: 1', 'Predito Negativo: 0'])\n",
    "sns.heatmap(cm_matrix, annot=True, fmt='d', cmap='YlGnBu')\n",
    "\n",
    "from sklearn.metrics import classification_report\n",
    "print(classification_report(y_test, y_pred))"
   ]
  },
  {
   "cell_type": "code",
   "execution_count": 38,
   "metadata": {},
   "outputs": [
    {
     "name": "stdout",
     "output_type": "stream",
     "text": [
      "[1 1 1 ... 1 1 1]\n",
      "Acurária: 1.0000\n",
      "              precision    recall  f1-score   support\n",
      "\n",
      "           0       1.00      1.00      1.00        88\n",
      "           1       1.00      1.00      1.00      2540\n",
      "\n",
      "    accuracy                           1.00      2628\n",
      "   macro avg       1.00      1.00      1.00      2628\n",
      "weighted avg       1.00      1.00      1.00      2628\n",
      "\n"
     ]
    },
    {
     "data": {
      "image/png": "[encoded data removed]",
      "text/plain": [
       "<Figure size 640x480 with 2 Axes>"
      ]
     },
     "metadata": {},
     "output_type": "display_data"
    }
   ],
   "source": [
    "# Floresta Aleatória (Random Forest)\n",
    "\n",
    "from sklearn.ensemble import RandomForestClassifier\n",
    "\n",
    "rfc = RandomForestClassifier()\n",
    "\n",
    "# Hyper-parâmetros: n_estimators, max_features, max_depth, min_samples_split, min_samples_leaf, boostrap\n",
    "\n",
    "rfc.fit(X_train, y_train)\n",
    "y_pred = rfc.predict(X_test)\n",
    "\n",
    "print(y_pred)\n",
    "\n",
    "from sklearn.metrics import accuracy_score\n",
    "print('Acurária: {0:0.4f}'. format(accuracy_score(y_test, y_pred)))\n",
    "\n",
    "from sklearn.metrics import confusion_matrix\n",
    "cm = confusion_matrix(y_test, y_pred)\n",
    "cm_matrix = pd.DataFrame(data=cm, columns=['Atual - Positivo: 1', 'Atual - Negativo: 0'], \n",
    "                                    index=['Predito Positivo: 1', 'Predito Negativo: 0'])\n",
    "sns.heatmap(cm_matrix, annot=True, fmt='d', cmap='YlGnBu')\n",
    "\n",
    "from sklearn.metrics import classification_report\n",
    "print(classification_report(y_test, y_pred))"
   ]
  },
  {
   "cell_type": "code",
   "execution_count": 35,
   "metadata": {},
   "outputs": [
    {
     "name": "stdout",
     "output_type": "stream",
     "text": [
      "Acurária: 0.9665\n",
      "              precision    recall  f1-score   support\n",
      "\n",
      "           0       0.00      0.00      0.00        88\n",
      "           1       0.97      1.00      0.98      2540\n",
      "\n",
      "    accuracy                           0.97      2628\n",
      "   macro avg       0.48      0.50      0.49      2628\n",
      "weighted avg       0.93      0.97      0.95      2628\n",
      "\n"
     ]
    },
    {
     "data": {
      "image/png": "[encoded data removed]",
      "text/plain": [
       "<Figure size 640x480 with 2 Axes>"
      ]
     },
     "metadata": {},
     "output_type": "display_data"
    }
   ],
   "source": [
    "# Máquina de Vetor e Suporte (SVM: Support Vector Machine)\n",
    "\n",
    "from sklearn.svm import SVC\n",
    "\n",
    "svc = SVC()\n",
    "\n",
    "# Hyper-parâmetros: c, kernel, gamma\n",
    "\n",
    "svc.fit(X_train, y_train)\n",
    "y_pred = svc.predict(X_test)\n",
    "\n",
    "from sklearn.metrics import accuracy_score\n",
    "print('Acurária: {0:0.4f}'. format(accuracy_score(y_test, y_pred)))\n",
    "\n",
    "from sklearn.metrics import confusion_matrix\n",
    "cm = confusion_matrix(y_test, y_pred)\n",
    "cm_matrix = pd.DataFrame(data=cm, columns=['Atual - Positivo: 1', 'Atual - Negativo: 0'], \n",
    "                                    index=['Predito Positivo: 1', 'Predito Negativo: 0'])\n",
    "sns.heatmap(cm_matrix, annot=True, fmt='d', cmap='YlGnBu')\n",
    "\n",
    "from sklearn.metrics import classification_report\n",
    "print(classification_report(y_test, y_pred))"
   ]
  },
  {
   "cell_type": "code",
   "execution_count": 36,
   "metadata": {},
   "outputs": [
    {
     "name": "stdout",
     "output_type": "stream",
     "text": [
      "Acurária: 0.9962\n",
      "              precision    recall  f1-score   support\n",
      "\n",
      "           0       0.96      0.92      0.94        88\n",
      "           1       1.00      1.00      1.00      2540\n",
      "\n",
      "    accuracy                           1.00      2628\n",
      "   macro avg       0.98      0.96      0.97      2628\n",
      "weighted avg       1.00      1.00      1.00      2628\n",
      "\n"
     ]
    },
    {
     "data": {
      "image/png": "[encoded data removed]",
      "text/plain": [
       "<Figure size 640x480 with 2 Axes>"
      ]
     },
     "metadata": {},
     "output_type": "display_data"
    }
   ],
   "source": [
    "# k-Vizinhos mais Próximos (k-NN: k-Nearest Neighbor)\n",
    "\n",
    "from sklearn.neighbors import KNeighborsClassifier\n",
    "\n",
    "knn = KNeighborsClassifier()\n",
    "\n",
    "# Hyper-parâmetros: n_neighbors, weights, leaf_size, p\n",
    "\n",
    "knn.fit(X_train, y_train)\n",
    "y_pred = knn.predict(X_test)\n",
    "\n",
    "from sklearn.metrics import accuracy_score\n",
    "print('Acurária: {0:0.4f}'. format(accuracy_score(y_test, y_pred)))\n",
    "\n",
    "from sklearn.metrics import confusion_matrix\n",
    "cm = confusion_matrix(y_test, y_pred)\n",
    "cm_matrix = pd.DataFrame(data=cm, columns=['Atual - Positivo: 1', 'Atual - Negativo: 0'], \n",
    "                                    index=['Predito Positivo: 1', 'Predito Negativo: 0'])\n",
    "sns.heatmap(cm_matrix, annot=True, fmt='d', cmap='YlGnBu')\n",
    "\n",
    "from sklearn.metrics import classification_report\n",
    "print(classification_report(y_test, y_pred))"
   ]
  },
  {
   "cell_type": "code",
   "execution_count": 37,
   "metadata": {},
   "outputs": [
    {
     "name": "stdout",
     "output_type": "stream",
     "text": [
      "Acurária: 1.0000\n",
      "              precision    recall  f1-score   support\n",
      "\n",
      "           0       1.00      1.00      1.00        88\n",
      "           1       1.00      1.00      1.00      2540\n",
      "\n",
      "    accuracy                           1.00      2628\n",
      "   macro avg       1.00      1.00      1.00      2628\n",
      "weighted avg       1.00      1.00      1.00      2628\n",
      "\n"
     ]
    },
    {
     "data": {
      "image/png": "[encoded data removed]",
      "text/plain": [
       "<Figure size 640x480 with 2 Axes>"
      ]
     },
     "metadata": {},
     "output_type": "display_data"
    }
   ],
   "source": [
    "# Naive Bayes\n",
    "\n",
    "from sklearn.naive_bayes import GaussianNB\n",
    "\n",
    "gnb = GaussianNB()\n",
    "\n",
    "# Hyper-parâmetros: priors, var_smoothing\n",
    "\n",
    "gnb.fit(X_train, y_train)\n",
    "y_pred = gnb.predict(X_test)\n",
    "\n",
    "from sklearn.metrics import accuracy_score\n",
    "print('Acurária: {0:0.4f}'. format(accuracy_score(y_test, y_pred)))\n",
    "\n",
    "from sklearn.metrics import confusion_matrix\n",
    "cm = confusion_matrix(y_test, y_pred)\n",
    "cm_matrix = pd.DataFrame(data=cm, columns=['Atual - Positivo: 1', 'Atual - Negativo: 0'], \n",
    "                                    index=['Predito Positivo: 1', 'Predito Negativo: 0'])\n",
    "sns.heatmap(cm_matrix, annot=True, fmt='d', cmap='YlGnBu')\n",
    "\n",
    "from sklearn.metrics import classification_report\n",
    "print(classification_report(y_test, y_pred))"
   ]
  },
  {
   "cell_type": "markdown",
   "metadata": {},
   "source": [
    "#### Bons estudos!"
   ]
  }
 ],
 "metadata": {
  "kernelspec": {
   "display_name": "Python 3.9.13 ('base')",
   "language": "python",
   "name": "python3"
  },
  "language_info": {
   "codemirror_mode": {
    "name": "ipython",
    "version": 3
   },
   "file_extension": ".py",
   "mimetype": "text/x-python",
   "name": "python",
   "nbconvert_exporter": "python",
   "pygments_lexer": "ipython3",
   "version": "3.9.13"
  },
  "pycharm": {
   "stem_cell": {
    "cell_type": "raw",
    "metadata": {
     "collapsed": false
    },
    "source": []
   }
  },
  "vscode": {
   "interpreter": {
    "hash": "a05e213c8f2d9c57778e6073157315d386c56bca61a9cb3a74e80d3e7846bfed"
   }
  }
 },
 "nbformat": 4,
 "nbformat_minor": 2
}
