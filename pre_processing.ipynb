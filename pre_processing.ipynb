{
  "cells": [
    {
      "cell_type": "markdown",
      "metadata": {
        "id": "view-in-github",
        "colab_type": "text"
      },
      "source": [
        "<a href=\"https://colab.research.google.com/github/cassioHilario/DomHelder/blob/main/pre_processing.ipynb\" target=\"_parent\"><img src=\"https://colab.research.google.com/assets/colab-badge.svg\" alt=\"Open In Colab\"/></a>"
      ]
    },
    {
      "cell_type": "code",
      "execution_count": null,
      "metadata": {
        "id": "eV44jBRvsSY2"
      },
      "outputs": [],
      "source": [
        "import os\n",
        "import re\n",
        "import torch\n",
        "import spacy\n",
        "import cupy as cp\n",
        "import random"
      ]
    },
    {
      "cell_type": "code",
      "execution_count": null,
      "metadata": {
        "id": "XynjvlhjsSY3"
      },
      "outputs": [],
      "source": [
        "from spacy.tokens import Doc\n",
        "from spacy.vocab import Vocab\n",
        "from spacy.matcher import Matcher\n"
      ]
    },
    {
      "cell_type": "code",
      "execution_count": null,
      "metadata": {
        "id": "rfXf5gF6sSY4"
      },
      "outputs": [],
      "source": [
        "spacy.prefer_gpu()\n",
        "nlp = spacy.load(\"pt_core_news_lg\")"
      ]
    },
    {
      "cell_type": "code",
      "execution_count": null,
      "metadata": {
        "id": "tHHuzSW5sSY4"
      },
      "outputs": [],
      "source": [
        "pasta = '../Base/data/'\n",
        "pastan = '../Base/data.V2/'\n",
        "\n",
        "# Nome do arquivo de saída onde as três últimas linhas serão salvas\n",
        "arquivo_sem_erro = '../Base/data.V2/amostra_base_sem erros.txt'"
      ]
    },
    {
      "cell_type": "code",
      "execution_count": null,
      "metadata": {
        "id": "8exA0633sSY4"
      },
      "outputs": [],
      "source": [
        "# Função para processar e escrever uma linha com quebra de linha após a pontuação\n",
        "def processar_linha(linha):\n",
        "    # Remove espaços em branco antes da pontuação\n",
        "    linha = re.sub(r'\\s+([.!?;,:])', r'\\1', linha)\n",
        "    # Adiciona uma quebra de linha após a pontuação\n",
        "    linha = re.sub(r'([.!?;,:])', r'\\1\\n', linha)\n",
        "    return linha"
      ]
    },
    {
      "cell_type": "code",
      "execution_count": null,
      "metadata": {
        "id": "EDK5jTUSsSY4"
      },
      "outputs": [],
      "source": [
        "arquivos = os.listdir(pasta)\n",
        "total_arquivos = int(len(os.listdir(pasta))*0.1)\n",
        "arquivos_selecionados = random.sample(arquivos, total_arquivos)\n",
        "for nome_arquivo in arquivos_selecionados:\n",
        "        # Verifique se o arquivo é um arquivo TXT\n",
        "        if nome_arquivo.endswith('.txt'):\n",
        "            arquivo_path = os.path.join(pasta, nome_arquivo)\n",
        "            arquivo_saida_path = os.path.join(pastan, nome_arquivo)\n",
        "            try:\n",
        "                conteudo = ''\n",
        "                # Abra o arquivo e leia as três últimas linhas\n",
        "                with open(arquivo_path, 'r', encoding='utf-8') as arquivo:\n",
        "                    conteudo = arquivo.read()\n",
        "                with open(arquivo_saida_path, 'w', encoding='utf-8') as arquivo:\n",
        "                    conteudo = processar_linha(conteudo)\n",
        "                    arquivo.write(conteudo.strip())\n",
        "            except Exception as e:\n",
        "                print(f\"Erro ao processar {arquivo_path}: {str(e)}\")"
      ]
    },
    {
      "cell_type": "code",
      "execution_count": null,
      "metadata": {
        "id": "2o-U75eWsSY4"
      },
      "outputs": [],
      "source": [
        "class Noun:\n",
        "    def __init__(self, gender, number):\n",
        "        self._gender = gender\n",
        "        self._number = number\n",
        "\n",
        "    @property\n",
        "    def gender(self):\n",
        "        return self._gender\n",
        "\n",
        "    @gender.setter\n",
        "    def gender(self, value):\n",
        "        self._gender = value\n",
        "\n",
        "    @property\n",
        "    def number(self):\n",
        "        return self._number\n",
        "\n",
        "    @number.setter\n",
        "    def number(self, value):\n",
        "        self._number = value\n"
      ]
    },
    {
      "cell_type": "code",
      "execution_count": null,
      "metadata": {
        "id": "zK2dDDuzsSY4"
      },
      "outputs": [],
      "source": [
        "\n",
        "def get_noun(doc):\n",
        "    for token in doc:\n",
        "        if token.pos_ == 'NOUN':\n",
        "            return Noun(token.morph.get('Gender'), token.morph.get('Number'))\n"
      ]
    },
    {
      "cell_type": "code",
      "execution_count": null,
      "metadata": {
        "id": "ep2HS63_sSY5"
      },
      "outputs": [],
      "source": [
        "def isCorrect(doc, noun):\n",
        "    for token in doc:\n",
        "        if token.pos_ == 'DET' or token.pos_ == 'PRON' or token.pos_ == 'ADJ':\n",
        "            if token.morph.get('Gender') != noun.gender or token.morph.get('Number') != noun.number:\n",
        "                return False\n",
        "        elif token.pos_ == 'AUX' or token.pos_ == 'VERB':\n",
        "            if token.morph.get('Number') != noun.number:\n",
        "                return False\n",
        "    return True"
      ]
    },
    {
      "cell_type": "code",
      "execution_count": null,
      "metadata": {
        "id": "wuQoC3x2sSY5"
      },
      "outputs": [],
      "source": [
        "# Define the patterns\n",
        "patterns = [\n",
        "    [{\"POS\": \"DET\"}, {\"POS\": \"NOUN\"}, {\"POS\": \"VERB\"}, {\"POS\": \"AUX\"}, {\"POS\": \"ADJ\"}],\n",
        "    [{\"POS\": \"DET\"}, {\"POS\": \"NOUN\"}, {\"POS\": \"AUX\"}, {\"POS\": \"VERB\"}, {\"POS\": \"ADJ\"}],\n",
        "    [{\"POS\": \"DET\"}, {\"POS\": \"NOUN\"}, {\"POS\": \"VERB\"}, {\"POS\": \"ADJ\"}],\n",
        "    [{\"POS\": \"DET\"}, {\"POS\": \"NOUN\"}, {\"POS\": \"AUX\"}, {\"POS\": \"ADJ\"}],\n",
        "    [{\"POS\": \"DET\"}, {\"POS\": \"NOUN\"}, {\"POS\": \"ADJ\"}]\n",
        "]\n",
        "\n",
        "# Initialize the matcher with the patterns\n",
        "matcher = Matcher(nlp.vocab)\n",
        "matcher.add(\"SENTENCE_STRUCTURE\", patterns)\n"
      ]
    },
    {
      "cell_type": "code",
      "execution_count": null,
      "metadata": {
        "id": "jnxPZ-KOsSY5"
      },
      "outputs": [],
      "source": [
        "def posses(doc):\n",
        "    posses = []\n",
        "    for token in doc:\n",
        "        if token.pos == \"ADJ\" or token.pos == \"NOUN\" or token.pos == \"DET\" or token.pos == \"PRON\":\n",
        "            if token.morph not in posses:\n",
        "                posses.append(str(token.morph))"
      ]
    },
    {
      "cell_type": "code",
      "execution_count": null,
      "metadata": {
        "id": "MgbOAE2YsSY5"
      },
      "outputs": [],
      "source": [
        "def pick_and_remove(lst):\n",
        "    index = random.randint(0, len(lst) - 1)\n",
        "    picked_string = lst[index]\n",
        "    lst.remove(picked_string)\n",
        "    return picked_string"
      ]
    },
    {
      "cell_type": "code",
      "execution_count": null,
      "metadata": {
        "id": "zaOzPxvWsSY5"
      },
      "outputs": [],
      "source": [
        "def changeGender(token):\n",
        "    if token.morph.get('Gender') == 'Masc':\n",
        "        if token.text.endswith('o'):\n",
        "            return token.text[:-1] + 'a'\n",
        "        elif token.text.endswith('or'):\n",
        "            return token.text[:-2] + 'ora'\n",
        "        elif token.text.endswith('ão'):\n",
        "            return token.text[:-2] + 'ã'\n",
        "        elif token.text.endswith('ês'):\n",
        "            return token.text[:-2] + 'esa'\n",
        "        elif token.text.endswith('r'):\n",
        "            return token.text + 'a'\n",
        "        elif token.text.endswith('l'):\n",
        "            return token.text + 'a'\n",
        "        elif token.text.endswith('z'):\n",
        "            return token.text + 'a'\n",
        "        elif token.text.endswith('e'):\n",
        "            return token.text + 'a'\n",
        "    elif token.morph.get('Gender') == 'Fem':\n",
        "        if token.text.endswith('a'):\n",
        "            return token.text[:-1] + 'o'\n",
        "        elif token.text.endswith('ora'):\n",
        "            return token.text[:-1]\n",
        "        elif token.text.endswith('ã'):\n",
        "            return token.text + 'o'\n",
        "        elif token.text.endswith('esa'):\n",
        "            return token.text[:-1] + 'o'\n",
        "        elif token.text.endswith('r'):\n",
        "            return token.text[:-1] + 'or'\n",
        "        elif token.text.endswith('l'):\n",
        "            return token.text[:-1] + 'or'\n",
        "        elif token.text.endswith('z'):\n",
        "            return token.text[:-1] + 'or'\n",
        "        elif token.text.endswith('e'):\n",
        "            return token.text[:-1] + 'or'\n",
        "    return token.text\n"
      ]
    },
    {
      "cell_type": "code",
      "execution_count": null,
      "metadata": {
        "id": "dtJcCSJ-sSY5"
      },
      "outputs": [],
      "source": [
        "def changeNumber(token):\n",
        "    if token.morph.get('Number') == 'Sing':\n",
        "        if token.text.endswith('s'):\n",
        "            return token.text[:-1]\n",
        "        elif token.text.endswith('ão'):\n",
        "            return token.text[:-2] + 'ões'\n",
        "        elif token.text.endswith('ês'):\n",
        "            return token.text[:-2] + 'eses'\n",
        "        elif token.text.endswith('l'):\n",
        "            return token.text + 's'\n",
        "        elif token.text.endswith('r'):\n",
        "            return token.text + 'es'\n",
        "        elif token.text.endswith('z'):\n",
        "            return token.text + 'es'\n",
        "        elif token.text.endswith('m'):\n",
        "            return token.text[:-1] + 'ns'\n",
        "        else:\n",
        "            return token.text + 's'\n",
        "    elif token.morph.get('Number') == 'Plur':\n",
        "        if token.text.endswith('s'):\n",
        "            return token.text + 'es'\n",
        "        elif token.text.endswith('ão'):\n",
        "            return token.text[:-2] + 'ões'\n",
        "        elif token.text.endswith('ês'):\n",
        "            return token.text[:-2] + 'eses'\n",
        "        elif token.text.endswith('l'):\n",
        "            return token.text + 'es'\n",
        "        elif token.text.endswith('r'):\n",
        "            return token.text + 'es'\n",
        "        elif token.text.endswith('z'):\n",
        "            return token.text + 'es'\n",
        "        elif token.text.endswith('m'):\n",
        "            return token.text[:-1] + 'ns'\n",
        "        else:\n",
        "            return token.text + 's'\n",
        "    return token.text\n",
        "\n"
      ]
    },
    {
      "cell_type": "code",
      "execution_count": null,
      "metadata": {
        "id": "WYQZaKw5sSY5"
      },
      "outputs": [],
      "source": [
        "def changeWord(token, i):\n",
        "    if token.pos_ == \"NOUN\" or token.pos_ == \"PRON\" or token.pos_ == \"DET\" or token.pos_ == \"ADJ\":\n",
        "        if i % 2 == 0:\n",
        "            return changeGender(token)\n",
        "        else:\n",
        "            return changeNumber(token)\n",
        "    return token.text"
      ]
    },
    {
      "cell_type": "code",
      "execution_count": null,
      "metadata": {
        "id": "pGMP0madsSY6"
      },
      "outputs": [],
      "source": [
        "def insertErro(doc):\n",
        "    posses = posses(doc)\n",
        "    num_erros = random.randint(1, len(posses))\n",
        "    words = []\n",
        "    for i in range(num_erros):\n",
        "        pos = pick_and_remove(posses)\n",
        "        for token in doc:\n",
        "            word = token.text\n",
        "            if str(token.pos_) == pos:\n",
        "                word = changeWord(token)\n",
        "            if len(words) <= token.i:\n",
        "                words.append(word, i)\n",
        "            else:\n",
        "                words[token.i] = word\n",
        "    return Doc(doc.vocab, words=words)\n"
      ]
    },
    {
      "cell_type": "code",
      "execution_count": null,
      "metadata": {
        "id": "VEW3phUnsSY6"
      },
      "outputs": [],
      "source": [
        "def doc_to_string(doc):\n",
        "    return doc.text\n"
      ]
    },
    {
      "cell_type": "code",
      "execution_count": null,
      "metadata": {
        "id": "crNALBUtsSY6"
      },
      "outputs": [],
      "source": [
        "def isMatch(doc):\n",
        "    matches = matcher(doc)\n",
        "    return len(matches) > 0"
      ]
    },
    {
      "cell_type": "code",
      "execution_count": null,
      "metadata": {
        "id": "P7g0vK2hsSY6"
      },
      "outputs": [],
      "source": [
        "\n",
        "\n",
        "\n",
        "# Contador para acompanhar o número de arquivos processados\n",
        "contador_arquivos = 0\n",
        "\n",
        "# Abrir o arquivo de saída para escrita\n",
        "with open(arquivo_sem_erro, 'w', encoding='utf-8') as f:\n",
        "\n",
        "    linhas_corretas = []\n",
        "    # Loop através dos arquivos na pasta\n",
        "    for nome_arquivo in os.listdir(pastan):\n",
        "        # Verifique se o arquivo é um arquivo TXT\n",
        "        if nome_arquivo.endswith('.txt'):\n",
        "            arquivo_path = os.path.join(pastan, nome_arquivo)\n",
        "            try:\n",
        "                # Abra o arquivo e leia as três últimas linhas\n",
        "                with open(arquivo_path, 'r', encoding='utf-8') as arquivo:\n",
        "                    contador_linhas = 0\n",
        "                    linhas = []\n",
        "                    linhas = arquivo.readlines()\n",
        "                    linhas.reverse()\n",
        "                    # Processa e escreve essas linhas no arquivo de saída\n",
        "                    for linha in linhas:\n",
        "                        # verifica se a linha é vazia\n",
        "                        if linha.strip() != '':\n",
        "                            # transforma em doc\n",
        "                            doc = nlp(linha)\n",
        "                            if isMatch(doc):\n",
        "                                # captura o genero e numero do substantivo\n",
        "                                noun = get_noun(doc)\n",
        "                                if isCorrect(doc, noun):\n",
        "                                    linhas_corretas.append(linha.strip())\n",
        "                                    #arquivo_saida.write('\\n')\n",
        "                                    #arquivo_saida.write(doc_to_string(insertErro(doc)))\n",
        "                                    contador_linhas += 1\n",
        "                                    if contador_linhas == 3:\n",
        "                                        break\n",
        "                    contador_arquivos += 1\n",
        "                    # Verifique se atingimos o limite de 300.000 arquivos\n",
        "            except Exception as e:\n",
        "                print(f\"Erro ao processar {arquivo_path}: {str(e)}\")\n",
        "    f.write(\"\".join(linha+\"\\n\" for linha in linhas_corretas))\n",
        "\n",
        "print(f\"{contador_arquivos} arquivos processados e as três últimas linhas foram salvas em {f.name}\")"
      ]
    }
  ],
  "metadata": {
    "kernelspec": {
      "display_name": "tcc",
      "language": "python",
      "name": "python3"
    },
    "language_info": {
      "codemirror_mode": {
        "name": "ipython",
        "version": 3
      },
      "file_extension": ".py",
      "mimetype": "text/x-python",
      "name": "python",
      "nbconvert_exporter": "python",
      "pygments_lexer": "ipython3",
      "version": "3.8.18"
    },
    "colab": {
      "provenance": [],
      "include_colab_link": true
    }
  },
  "nbformat": 4,
  "nbformat_minor": 0
}