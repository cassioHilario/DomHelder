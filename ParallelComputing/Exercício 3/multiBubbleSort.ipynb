{
 "cells": [
  {
   "cell_type": "code",
   "execution_count": 1,
   "metadata": {},
   "outputs": [],
   "source": [
    "def sort(lista, posicao=0):\n",
    "    if(posicao < len(lista)):\n",
    "        if(lista[posicao] > sort(lista, posicao+1)):\n",
    "            old = lista[posicao]\n",
    "            lista[posicao] = lista[posicao+1]\n",
    "            lista[posicao+1] = old\n",
    "            return sort(lista,posicao+1)\n",
    "        else:\n",
    "            return sort(lista, posicao+1)\n",
    "    else:\n",
    "        return lista"
   ]
  },
  {
   "cell_type": "code",
   "execution_count": 2,
   "metadata": {},
   "outputs": [
    {
     "ename": "TypeError",
     "evalue": "'>' not supported between instances of 'int' and 'list'",
     "output_type": "error",
     "traceback": [
      "\u001b[1;31m---------------------------------------------------------------------------\u001b[0m",
      "\u001b[1;31mTypeError\u001b[0m                                 Traceback (most recent call last)",
      "\u001b[1;32mc:\\Users\\e00774\\Desktop\\DomHelder\\ParallelComputing\\Exercício 3\\multiBubbleSort.ipynb Cell 2'\u001b[0m in \u001b[0;36m<cell line: 1>\u001b[1;34m()\u001b[0m\n\u001b[0;32m      <a href='vscode-notebook-cell:/c%3A/Users/e00774/Desktop/DomHelder/ParallelComputing/Exerc%C3%ADcio%203/multiBubbleSort.ipynb#ch0000001?line=0'>1</a>\u001b[0m \u001b[39mif\u001b[39;00m \u001b[39m__name__\u001b[39m \u001b[39m==\u001b[39m \u001b[39m'\u001b[39m\u001b[39m__main__\u001b[39m\u001b[39m'\u001b[39m:\n\u001b[1;32m----> <a href='vscode-notebook-cell:/c%3A/Users/e00774/Desktop/DomHelder/ParallelComputing/Exerc%C3%ADcio%203/multiBubbleSort.ipynb#ch0000001?line=1'>2</a>\u001b[0m     \u001b[39mprint\u001b[39m(sort([\u001b[39m4\u001b[39;49m,\u001b[39m56\u001b[39;49m,\u001b[39m7\u001b[39;49m,\u001b[39m56\u001b[39;49m,\u001b[39m7\u001b[39;49m,\u001b[39m12\u001b[39;49m,\u001b[39m56\u001b[39;49m,\u001b[39m4\u001b[39;49m,\u001b[39m2\u001b[39;49m,\u001b[39m5\u001b[39;49m,\u001b[39m4\u001b[39;49m,\u001b[39m1\u001b[39;49m,\u001b[39m4\u001b[39;49m,\u001b[39m9\u001b[39;49m,\u001b[39m54\u001b[39;49m,\u001b[39m87\u001b[39;49m,\u001b[39m5\u001b[39;49m,\u001b[39m4\u001b[39;49m,\u001b[39m1\u001b[39;49m,\u001b[39m54\u001b[39;49m]))\n",
      "\u001b[1;32mc:\\Users\\e00774\\Desktop\\DomHelder\\ParallelComputing\\Exercício 3\\multiBubbleSort.ipynb Cell 1'\u001b[0m in \u001b[0;36msort\u001b[1;34m(lista, posicao)\u001b[0m\n\u001b[0;32m      <a href='vscode-notebook-cell:/c%3A/Users/e00774/Desktop/DomHelder/ParallelComputing/Exerc%C3%ADcio%203/multiBubbleSort.ipynb#ch0000000?line=0'>1</a>\u001b[0m \u001b[39mdef\u001b[39;00m \u001b[39msort\u001b[39m(lista, posicao\u001b[39m=\u001b[39m\u001b[39m0\u001b[39m):\n\u001b[0;32m      <a href='vscode-notebook-cell:/c%3A/Users/e00774/Desktop/DomHelder/ParallelComputing/Exerc%C3%ADcio%203/multiBubbleSort.ipynb#ch0000000?line=1'>2</a>\u001b[0m     \u001b[39mif\u001b[39;00m(posicao \u001b[39m<\u001b[39m \u001b[39mlen\u001b[39m(lista)):\n\u001b[1;32m----> <a href='vscode-notebook-cell:/c%3A/Users/e00774/Desktop/DomHelder/ParallelComputing/Exerc%C3%ADcio%203/multiBubbleSort.ipynb#ch0000000?line=2'>3</a>\u001b[0m         \u001b[39mif\u001b[39;00m(lista[posicao] \u001b[39m>\u001b[39m sort(lista, posicao\u001b[39m+\u001b[39;49m\u001b[39m1\u001b[39;49m)):\n\u001b[0;32m      <a href='vscode-notebook-cell:/c%3A/Users/e00774/Desktop/DomHelder/ParallelComputing/Exerc%C3%ADcio%203/multiBubbleSort.ipynb#ch0000000?line=3'>4</a>\u001b[0m             old \u001b[39m=\u001b[39m lista[posicao]\n\u001b[0;32m      <a href='vscode-notebook-cell:/c%3A/Users/e00774/Desktop/DomHelder/ParallelComputing/Exerc%C3%ADcio%203/multiBubbleSort.ipynb#ch0000000?line=4'>5</a>\u001b[0m             lista[posicao] \u001b[39m=\u001b[39m lista[posicao\u001b[39m+\u001b[39m\u001b[39m1\u001b[39m]\n",
      "\u001b[1;32mc:\\Users\\e00774\\Desktop\\DomHelder\\ParallelComputing\\Exercício 3\\multiBubbleSort.ipynb Cell 1'\u001b[0m in \u001b[0;36msort\u001b[1;34m(lista, posicao)\u001b[0m\n\u001b[0;32m      <a href='vscode-notebook-cell:/c%3A/Users/e00774/Desktop/DomHelder/ParallelComputing/Exerc%C3%ADcio%203/multiBubbleSort.ipynb#ch0000000?line=0'>1</a>\u001b[0m \u001b[39mdef\u001b[39;00m \u001b[39msort\u001b[39m(lista, posicao\u001b[39m=\u001b[39m\u001b[39m0\u001b[39m):\n\u001b[0;32m      <a href='vscode-notebook-cell:/c%3A/Users/e00774/Desktop/DomHelder/ParallelComputing/Exerc%C3%ADcio%203/multiBubbleSort.ipynb#ch0000000?line=1'>2</a>\u001b[0m     \u001b[39mif\u001b[39;00m(posicao \u001b[39m<\u001b[39m \u001b[39mlen\u001b[39m(lista)):\n\u001b[1;32m----> <a href='vscode-notebook-cell:/c%3A/Users/e00774/Desktop/DomHelder/ParallelComputing/Exerc%C3%ADcio%203/multiBubbleSort.ipynb#ch0000000?line=2'>3</a>\u001b[0m         \u001b[39mif\u001b[39;00m(lista[posicao] \u001b[39m>\u001b[39m sort(lista, posicao\u001b[39m+\u001b[39;49m\u001b[39m1\u001b[39;49m)):\n\u001b[0;32m      <a href='vscode-notebook-cell:/c%3A/Users/e00774/Desktop/DomHelder/ParallelComputing/Exerc%C3%ADcio%203/multiBubbleSort.ipynb#ch0000000?line=3'>4</a>\u001b[0m             old \u001b[39m=\u001b[39m lista[posicao]\n\u001b[0;32m      <a href='vscode-notebook-cell:/c%3A/Users/e00774/Desktop/DomHelder/ParallelComputing/Exerc%C3%ADcio%203/multiBubbleSort.ipynb#ch0000000?line=4'>5</a>\u001b[0m             lista[posicao] \u001b[39m=\u001b[39m lista[posicao\u001b[39m+\u001b[39m\u001b[39m1\u001b[39m]\n",
      "    \u001b[1;31m[... skipping similar frames: sort at line 3 (17 times)]\u001b[0m\n",
      "\u001b[1;32mc:\\Users\\e00774\\Desktop\\DomHelder\\ParallelComputing\\Exercício 3\\multiBubbleSort.ipynb Cell 1'\u001b[0m in \u001b[0;36msort\u001b[1;34m(lista, posicao)\u001b[0m\n\u001b[0;32m      <a href='vscode-notebook-cell:/c%3A/Users/e00774/Desktop/DomHelder/ParallelComputing/Exerc%C3%ADcio%203/multiBubbleSort.ipynb#ch0000000?line=0'>1</a>\u001b[0m \u001b[39mdef\u001b[39;00m \u001b[39msort\u001b[39m(lista, posicao\u001b[39m=\u001b[39m\u001b[39m0\u001b[39m):\n\u001b[0;32m      <a href='vscode-notebook-cell:/c%3A/Users/e00774/Desktop/DomHelder/ParallelComputing/Exerc%C3%ADcio%203/multiBubbleSort.ipynb#ch0000000?line=1'>2</a>\u001b[0m     \u001b[39mif\u001b[39;00m(posicao \u001b[39m<\u001b[39m \u001b[39mlen\u001b[39m(lista)):\n\u001b[1;32m----> <a href='vscode-notebook-cell:/c%3A/Users/e00774/Desktop/DomHelder/ParallelComputing/Exerc%C3%ADcio%203/multiBubbleSort.ipynb#ch0000000?line=2'>3</a>\u001b[0m         \u001b[39mif\u001b[39;00m(lista[posicao] \u001b[39m>\u001b[39;49m sort(lista, posicao\u001b[39m+\u001b[39;49m\u001b[39m1\u001b[39;49m)):\n\u001b[0;32m      <a href='vscode-notebook-cell:/c%3A/Users/e00774/Desktop/DomHelder/ParallelComputing/Exerc%C3%ADcio%203/multiBubbleSort.ipynb#ch0000000?line=3'>4</a>\u001b[0m             old \u001b[39m=\u001b[39m lista[posicao]\n\u001b[0;32m      <a href='vscode-notebook-cell:/c%3A/Users/e00774/Desktop/DomHelder/ParallelComputing/Exerc%C3%ADcio%203/multiBubbleSort.ipynb#ch0000000?line=4'>5</a>\u001b[0m             lista[posicao] \u001b[39m=\u001b[39m lista[posicao\u001b[39m+\u001b[39m\u001b[39m1\u001b[39m]\n",
      "\u001b[1;31mTypeError\u001b[0m: '>' not supported between instances of 'int' and 'list'"
     ]
    }
   ],
   "source": [
    "if __name__ == '__main__':\n",
    "    print(sort([4,56,7,56,7,12,56,4,2,5,4,1,4,9,54,87,5,4,1,54]))"
   ]
  }
 ],
 "metadata": {
  "interpreter": {
   "hash": "4ad57b4d24be16120384be72ac0e99272dfbc0d6f795f17e1fd535bafb32543f"
  },
  "kernelspec": {
   "display_name": "Python 3.10.6 64-bit (windows store)",
   "language": "python",
   "name": "python3"
  },
  "language_info": {
   "codemirror_mode": {
    "name": "ipython",
    "version": 3
   },
   "file_extension": ".py",
   "mimetype": "text/x-python",
   "name": "python",
   "nbconvert_exporter": "python",
   "pygments_lexer": "ipython3",
   "version": "3.10.7"
  },
  "orig_nbformat": 4
 },
 "nbformat": 4,
 "nbformat_minor": 2
}
